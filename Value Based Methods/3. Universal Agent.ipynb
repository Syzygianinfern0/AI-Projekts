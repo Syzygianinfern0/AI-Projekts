{
 "cells": [
  {
   "cell_type": "markdown",
   "metadata": {
    "collapsed": true,
    "pycharm": {
     "name": "#%% md\n"
    }
   },
   "source": [
    "# Lets see what obs, action spaces are..."
   ]
  },
  {
   "cell_type": "code",
   "execution_count": 1,
   "outputs": [
    {
     "name": "stdout",
     "text": [
      "\n \n GAME MountainCar-v0 \n Observation Space : Box(2,), Action Space : Discrete(3)\n\n \n GAME MountainCarContinuous-v0 \n Observation Space : Box(2,), Action Space : Box(1,)\n\n \n GAME Acrobot-v1 \n Observation Space : Box(6,), Action Space : Discrete(3)\n\n \n GAME CartPole-v1 \n Observation Space : Box(4,), Action Space : Discrete(2)\n\n \n GAME Pendulum-v0 \n Observation Space : Box(3,), Action Space : Box(1,)\n",
      "\n \n GAME FrozenLake-v0 \n Observation Space : Discrete(16), Action Space : Discrete(4)\n"
     ],
     "output_type": "stream"
    }
   ],
   "source": [
    "import gym\n",
    "import random\n",
    "import numpy as np\n",
    "env_name = ['MountainCar-v0', \n",
    "            'MountainCarContinuous-v0', \n",
    "            'Acrobot-v1', \n",
    "            'CartPole-v1',\n",
    "            'Pendulum-v0',\n",
    "            'FrozenLake-v0']\n",
    "for name in env_name:\n",
    "    env = gym.make(name)\n",
    "    print(f\"\\n \\n GAME {name} \\n Observation Space : {env.observation_space}, Action Space : {env.action_space}\")"
   ],
   "metadata": {
    "collapsed": false,
    "pycharm": {
     "name": "#%%\n",
     "is_executing": false
    }
   }
  },
  {
   "cell_type": "markdown",
   "source": [
    "# As we can see the spaces are both discrete and boxes\n",
    "We need to put the cases in the agent dependant upon the type of the action space.\n",
    "If you see the wiki for the games like the [MountainCarContinuous](https://github.com/openai/gym/wiki/MountainCarContinuous-v0), the action to be passed is a number between 0 and 1"
   ],
   "metadata": {
    "collapsed": false,
    "pycharm": {
     "name": "#%% md\n"
    }
   }
  },
  {
   "cell_type": "code",
   "execution_count": 2,
   "outputs": [],
   "source": [
    "# Lets make the agent\n",
    "\n",
    "class Agent():\n",
    "    def __init__(self, env):\n",
    "        self.is_discrete = type(env.action_space) == gym.spaces.discrete.Discrete\n",
    "        #     ^^^^ <<< Takes 1 if discrete else 0\n",
    "        \n",
    "        if self.is_discrete:\n",
    "            self.action_size = env.action_space.n\n",
    "        else:\n",
    "            self.action_low = env.action_space.low\n",
    "            self.action_high = env.action_space.high\n",
    "            self.action_size = env.action_space.shape\n",
    "        \n",
    "    def get_action(self):\n",
    "        if self.is_discrete:\n",
    "            a = random.choice(range(self.action_size))\n",
    "        else:             # vvvv <<< takes low high and shape of output as args\n",
    "            a = np.random.uniform(self.action_low,\n",
    "                                  self.action_high,\n",
    "                                  self.action_size)\n",
    "        return a"
   ],
   "metadata": {
    "collapsed": false,
    "pycharm": {
     "name": "#%%\n",
     "is_executing": false
    }
   }
  },
  {
   "cell_type": "code",
   "execution_count": 3,
   "outputs": [],
   "source": [
    "env = gym.make(env_name[1])\n",
    "agent = Agent(env)\n",
    "state = env.reset()\n",
    "\n",
    "for _ in range(250):\n",
    "    action = agent.get_action()\n",
    "    state, reward, done, info = env.step(action)\n",
    "    env.render()\n",
    "env.close()"
   ],
   "metadata": {
    "collapsed": false,
    "pycharm": {
     "name": "#%%\n",
     "is_executing": false
    }
   }
  }
 ],
 "metadata": {
  "language_info": {
   "codemirror_mode": {
    "name": "ipython",
    "version": 2
   },
   "file_extension": ".py",
   "mimetype": "text/x-python",
   "name": "python",
   "nbconvert_exporter": "python",
   "pygments_lexer": "ipython2",
   "version": "2.7.6"
  },
  "kernelspec": {
   "name": "python3",
   "language": "python",
   "display_name": "Python 3"
  },
  "pycharm": {
   "stem_cell": {
    "cell_type": "raw",
    "source": [],
    "metadata": {
     "collapsed": false
    }
   }
  }
 },
 "nbformat": 4,
 "nbformat_minor": 0
}