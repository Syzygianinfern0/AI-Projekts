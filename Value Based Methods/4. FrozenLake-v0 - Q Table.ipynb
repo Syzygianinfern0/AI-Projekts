{
 "cells": [
  {
   "cell_type": "markdown",
   "metadata": {
    "collapsed": true,
    "pycharm": {
     "name": "#%% md\n"
    }
   },
   "source": [
    "# We will try to make a Q Table for solving. \n",
    "We are going to disable slippery for reducing complications."
   ]
  },
  {
   "cell_type": "code",
   "execution_count": 1,
   "metadata": {
    "pycharm": {
     "is_executing": false,
     "name": "#%%\n"
    }
   },
   "outputs": [],
   "source": [
    "import gym\n",
    "import numpy as np\n",
    "import random\n",
    "from time import sleep\n",
    "from IPython.display import clear_output\n",
    "from gym.envs.registration import register        # <<<--- To manipulate the registry of the FrozenLake Source to remove slipping "
   ]
  },
  {
   "cell_type": "markdown",
   "metadata": {
    "pycharm": {
     "name": "#%% md\n"
    }
   },
   "source": [
    "# Lets make the basic agent from the last exercise"
   ]
  },
  {
   "cell_type": "code",
   "execution_count": 2,
   "metadata": {
    "pycharm": {
     "is_executing": false,
     "name": "#%%\n"
    }
   },
   "outputs": [
    {
     "name": "stdout",
     "output_type": "stream",
     "text": [
      "  (Left)\n",
      "SFFF\n",
      "FHFH\n",
      "\u001b[41mF\u001b[0mFFH\n",
      "HFFG\n"
     ]
    }
   ],
   "source": [
    "class Agent():\n",
    "    def __init__(self, env):\n",
    "        self.is_discrete = type(env.action_space) == gym.spaces.discrete.Discrete\n",
    "        #     ^^^^ <<< Takes 1 if discrete else 0\n",
    "        \n",
    "        if self.is_discrete:\n",
    "            self.action_size = env.action_space.n\n",
    "        else:\n",
    "            self.action_low = env.action_space.low\n",
    "            self.action_high = env.action_space.high\n",
    "            self.action_size = env.action_space.shape\n",
    "        \n",
    "    def get_action(self):\n",
    "        if self.is_discrete:\n",
    "            a = random.choice(range(self.action_size))\n",
    "        else:             # vvvv <<< takes low high and shape of output as args\n",
    "            a = np.random.uniform(self.action_low,\n",
    "                                  self.action_high,\n",
    "                                  self.action_size)\n",
    "        return a\n",
    "\n",
    "try:    \n",
    "    register(\n",
    "        id='FrozenLake-NoSlip-v0',\n",
    "        entry_point='gym.envs.toy_text:FrozenLakeEnv',\n",
    "        kwargs={'map_name' : '4x4', 'is_slippery' : False},     # <<<--- Passing to register as a **kwarg... \n",
    "        max_episode_steps=100,                                  # Refer https://github.com/openai/gym/blob/master/gym/envs/__init__.py\n",
    "        reward_threshold=0.78, # optimum = .8196\n",
    "    )\n",
    "except:\n",
    "    pass\n",
    "\n",
    "env = gym.make('FrozenLake-NoSlip-v0')\n",
    "agent = Agent(env)\n",
    "state = env.reset()\n",
    "\n",
    "for _ in range(250):\n",
    "    action = agent.get_action()\n",
    "    state, reward, done, info = env.step(action)\n",
    "    if done:\n",
    "        break\n",
    "    env.render()\n",
    "    sleep(0.5)\n",
    "    clear_output(wait=True)\n",
    "env.close()"
   ]
  },
  {
   "cell_type": "markdown",
   "metadata": {},
   "source": [
    "# We will now make the Q Agent"
   ]
  },
  {
   "cell_type": "code",
   "execution_count": 45,
   "metadata": {
    "pycharm": {
     "is_executing": false
    }
   },
   "outputs": [],
   "source": [
    "class QAgent(Agent):\n",
    "    def __init__(self, env, learning_rate = 0.01, discount = 0.97):\n",
    "        super().__init__(env)\n",
    "        self.state_size = env.observation_space.n\n",
    "        self.epsilon = 1.0\n",
    "        self.learning_rate = learning_rate\n",
    "        self.discount = discount\n",
    "        self.make_table()\n",
    "\n",
    "    def make_table(self):\n",
    "        self.QTable = np.random.random([self.state_size, self.action_size]) * 1e-4\n",
    "\n",
    "    def get_action(self, state):\n",
    "        q_state = self.QTable[state]\n",
    "        greedy = np.argmax(q_state)\n",
    "        explore = super().get_action()      # <<<--- Calls for a random action\n",
    "        return explore if random.random() < self.epsilon else greedy\n",
    "\n",
    "    def train(self, exp):\n",
    "        state, action, next_state, done, reward = exp\n",
    "        q_next = self.QTable[next_state] if not done else np.zeros([self.action_size])\n",
    "        q_target = reward + self.discount * np.max(q_next)\n",
    "        q_update = q_target - self.QTable[state, action]\n",
    "        self.QTable[state, action] += self.learning_rate * q_update\n",
    "        if done and reward:\n",
    "            self.epsilon *= 0.99"
   ]
  },
  {
   "cell_type": "markdown",
   "metadata": {
    "pycharm": {
     "name": "#%% md\n"
    }
   },
   "source": [
    "# Lets call the trainer now"
   ]
  },
  {
   "cell_type": "code",
   "execution_count": 46,
   "metadata": {},
   "outputs": [],
   "source": [
    "agent = QAgent(env)"
   ]
  },
  {
   "cell_type": "code",
   "execution_count": 47,
   "metadata": {
    "scrolled": true
   },
   "outputs": [
    {
     "name": "stdout",
     "output_type": "stream",
     "text": [
      "1.0\n"
     ]
    }
   ],
   "source": [
    "print(agent.epsilon)"
   ]
  },
  {
   "cell_type": "code",
   "execution_count": 48,
   "metadata": {
    "pycharm": {
     "is_executing": false,
     "name": "#%%\n"
    },
    "scrolled": true
   },
   "outputs": [
    {
     "name": "stdout",
     "output_type": "stream",
     "text": [
      "Episode : 99, Total Reward : 99.0, Epsilon : 0.0005714123018121786\n",
      "  (Right)\n",
      "SFFF\n",
      "FHFH\n",
      "FFFH\n",
      "HFF\u001b[41mG\u001b[0m\n",
      "[[5.57314055e-03 6.59822960e-01 4.15799400e-04 7.68978823e-03]\n",
      " [4.83919965e-03 9.13463483e-06 1.13457428e-04 9.20151709e-05]\n",
      " [8.94757745e-05 5.74736938e-04 4.55401007e-05 8.87939075e-05]\n",
      " [3.54008574e-05 5.27210073e-05 2.19170805e-05 2.49307648e-05]\n",
      " [2.02244228e-02 7.72199020e-01 1.37388909e-06 4.41949219e-03]\n",
      " [3.76523757e-05 2.14330868e-05 2.19622403e-06 2.29181631e-05]\n",
      " [5.49001008e-05 1.13850854e-02 5.39584207e-05 6.77495724e-05]\n",
      " [2.84705023e-05 9.80933346e-05 3.05642251e-05 2.36984576e-05]\n",
      " [1.79159318e-02 2.30251012e-05 8.59897344e-01 7.62311497e-03]\n",
      " [2.20257727e-02 9.22010876e-01 3.17004949e-02 3.20942257e-05]\n",
      " [4.44576634e-03 2.30900956e-01 7.13248162e-05 6.13902428e-04]\n",
      " [9.23496133e-06 9.78955466e-05 8.54181376e-05 9.94680607e-05]\n",
      " [1.95315576e-05 9.61275890e-05 9.28639529e-05 8.36582644e-05]\n",
      " [1.76566790e-05 4.93500582e-02 9.65366794e-01 3.94602263e-02]\n",
      " [7.53092454e-02 1.29866387e-01 9.99428611e-01 2.91113959e-02]\n",
      " [2.52979404e-05 3.02551533e-05 5.23997715e-06 2.05602665e-05]]\n"
     ]
    }
   ],
   "source": [
    "total_reward = 0\n",
    "\n",
    "while True:\n",
    "    for episode in range(100):\n",
    "        state = env.reset()\n",
    "        done = False\n",
    "        while not done:\n",
    "            action = agent.get_action(state)\n",
    "            next_state, reward, done, info = env.step(action)\n",
    "            agent.train((state, action, next_state, done, reward))\n",
    "            state = next_state\n",
    "            total_reward += reward\n",
    "            print(f\"Episode : {episode}, Total Reward : {total_reward}, Epsilon : {agent.epsilon}\")\n",
    "            env.render()\n",
    "            print(agent.QTable)\n",
    "            sleep(0.01)\n",
    "            clear_output(wait=True)\n",
    "    if episode == int(total_reward):\n",
    "        break\n",
    "    episode = 0\n",
    "    total_reward = 0\n"
   ]
  },
  {
   "cell_type": "code",
   "execution_count": null,
   "metadata": {},
   "outputs": [],
   "source": []
  }
 ],
 "metadata": {
  "kernelspec": {
   "display_name": "Python 3",
   "language": "python",
   "name": "python3"
  },
  "language_info": {
   "codemirror_mode": {
    "name": "ipython",
    "version": 3
   },
   "file_extension": ".py",
   "mimetype": "text/x-python",
   "name": "python",
   "nbconvert_exporter": "python",
   "pygments_lexer": "ipython3",
   "version": "3.7.3"
  },
  "pycharm": {
   "stem_cell": {
    "cell_type": "raw",
    "metadata": {
     "collapsed": false
    },
    "source": []
   }
  }
 },
 "nbformat": 4,
 "nbformat_minor": 1
}
