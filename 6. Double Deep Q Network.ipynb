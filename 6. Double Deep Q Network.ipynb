{
 "cells": [
  {
   "cell_type": "code",
   "execution_count": 1,
   "metadata": {
    "pycharm": {
     "is_executing": false
    }
   },
   "outputs": [
    {
     "name": "stderr",
     "output_type": "stream",
     "text": [
      "Using TensorFlow backend.\n"
     ]
    }
   ],
   "source": [
    "import keras\n",
    "import numpy as np\n",
    "from rl.agents.dqn import DQNAgent\n",
    "from rl.policy import EpsGreedyQPolicy\n",
    "from rl.memory import SequentialMemory\n",
    "import gym"
   ]
  },
  {
   "cell_type": "code",
   "execution_count": 2,
   "metadata": {
    "pycharm": {
     "is_executing": false,
     "name": "#%%\n"
    }
   },
   "outputs": [
    {
     "name": "stdout",
     "output_type": "stream",
     "text": [
      "Action Space : Discrete(2) \n",
      " Observation Space : Box(4,)\n"
     ]
    }
   ],
   "source": [
    "env = gym.make('CartPole-v1')\n",
    "print(f\"Action Space : {env.action_space} \\n Observation Space : {env.observation_space}\")"
   ]
  },
  {
   "cell_type": "code",
   "execution_count": 3,
   "metadata": {
    "pycharm": {
     "is_executing": false,
     "name": "#%%\n"
    }
   },
   "outputs": [
    {
     "name": "stdout",
     "output_type": "stream",
     "text": [
      "WARNING:tensorflow:From C:\\ProgramData\\Anaconda3\\envs\\Space Invaders\\lib\\site-packages\\tensorflow\\python\\framework\\op_def_library.py:263: colocate_with (from tensorflow.python.framework.ops) is deprecated and will be removed in a future version.\n",
      "Instructions for updating:\n",
      "Colocations handled automatically by placer.\n",
      "_________________________________________________________________\n",
      "Layer (type)                 Output Shape              Param #   \n",
      "=================================================================\n",
      "flatten_1 (Flatten)          (None, 4)                 0         \n",
      "_________________________________________________________________\n",
      "dense_1 (Dense)              (None, 24)                120       \n",
      "_________________________________________________________________\n",
      "dense_2 (Dense)              (None, 24)                600       \n",
      "_________________________________________________________________\n",
      "dense_3 (Dense)              (None, 2)                 50        \n",
      "=================================================================\n",
      "Total params: 770\n",
      "Trainable params: 770\n",
      "Non-trainable params: 0\n",
      "_________________________________________________________________\n"
     ]
    }
   ],
   "source": [
    "model = keras.models.Sequential([\n",
    "    keras.layers.Flatten(input_shape=(1, env.observation_space.shape[0])),\n",
    "    keras.layers.Dense(24, activation=keras.activations.relu),\n",
    "    keras.layers.Dense(24, activation=keras.activations.relu),\n",
    "    keras.layers.Dense(env.action_space.n, activation=keras.activations.linear)\n",
    "])\n",
    "model.summary()"
   ]
  },
  {
   "cell_type": "code",
   "execution_count": null,
   "metadata": {
    "pycharm": {
     "is_executing": true,
     "name": "#%%\n"
    }
   },
   "outputs": [
    {
     "name": "stdout",
     "output_type": "stream",
     "text": [
      "Training for 100 steps ...\n",
      "Interval 1 (0 steps performed)\n"
     ]
    }
   ],
   "source": [
    "dqn = DQNAgent(model=model,\n",
    "               policy=EpsGreedyQPolicy(),\n",
    "               memory=SequentialMemory(limit=1000000, window_length=1),\n",
    "               nb_actions=env.action_space.n,\n",
    "               nb_steps_warmup=10)\n",
    "dqn.compile(optimizer=keras.optimizers.Adam(), \n",
    "            metrics=[keras.metrics.mean_absolute_error])\n",
    "dqn.fit(env=env,\n",
    "        nb_steps=100,\n",
    "        visualize=True,\n",
    "        nb_max_episode_steps=200)"
   ]
  },
  {
   "cell_type": "code",
   "execution_count": 34,
   "metadata": {
    "pycharm": {
     "is_executing": false,
     "name": "#%%\n"
    }
   },
   "outputs": [
    {
     "name": "stdout",
     "output_type": "stream",
     "text": [
      "Training for 5000 steps ...\n",
      "   10/5000: episode: 1, duration: 0.309s, episode steps: 10, steps per second: 32, episode reward: 10.000, mean reward: 1.000 [1.000, 1.000], mean action: 0.000 [0.000, 0.000], mean observation: 0.112 [-1.992, 3.004], loss: --, mean_absolute_error: --, mean_q: --\n",
      "   19/5000: episode: 2, duration: 1.345s, episode steps: 9, steps per second: 7, episode reward: 9.000, mean reward: 1.000 [1.000, 1.000], mean action: 0.000 [0.000, 0.000], mean observation: 0.145 [-1.759, 2.851], loss: 0.440488, mean_absolute_error: 0.647189, mean_q: 0.040286\n",
      "   29/5000: episode: 3, duration: 0.175s, episode steps: 10, steps per second: 57, episode reward: 10.000, mean reward: 1.000 [1.000, 1.000], mean action: 0.000 [0.000, 0.000], mean observation: 0.147 [-1.950, 3.091], loss: 0.327157, mean_absolute_error: 0.576285, mean_q: 0.192498\n",
      "   38/5000: episode: 4, duration: 0.172s, episode steps: 9, steps per second: 52, episode reward: 9.000, mean reward: 1.000 [1.000, 1.000], mean action: 0.000 [0.000, 0.000], mean observation: 0.169 [-1.785, 2.885], loss: 0.236334, mean_absolute_error: 0.534181, mean_q: 0.359442\n",
      "   47/5000: episode: 5, duration: 0.158s, episode steps: 9, steps per second: 57, episode reward: 9.000, mean reward: 1.000 [1.000, 1.000], mean action: 0.000 [0.000, 0.000], mean observation: 0.161 [-1.749, 2.845], loss: 0.204286, mean_absolute_error: 0.494949, mean_q: 0.463771\n",
      "   56/5000: episode: 6, duration: 0.169s, episode steps: 9, steps per second: 53, episode reward: 9.000, mean reward: 1.000 [1.000, 1.000], mean action: 0.000 [0.000, 0.000], mean observation: 0.166 [-1.780, 2.880], loss: 0.157460, mean_absolute_error: 0.474086, mean_q: 0.631267\n",
      "   66/5000: episode: 7, duration: 0.183s, episode steps: 10, steps per second: 55, episode reward: 10.000, mean reward: 1.000 [1.000, 1.000], mean action: 0.000 [0.000, 0.000], mean observation: 0.145 [-1.966, 3.066], loss: 0.141722, mean_absolute_error: 0.453205, mean_q: 0.762180\n",
      "   75/5000: episode: 8, duration: 0.195s, episode steps: 9, steps per second: 46, episode reward: 9.000, mean reward: 1.000 [1.000, 1.000], mean action: 0.000 [0.000, 0.000], mean observation: 0.151 [-1.773, 2.805], loss: 0.121140, mean_absolute_error: 0.429675, mean_q: 0.949292\n",
      "   89/5000: episode: 9, duration: 0.287s, episode steps: 14, steps per second: 49, episode reward: 14.000, mean reward: 1.000 [1.000, 1.000], mean action: 0.143 [0.000, 1.000], mean observation: 0.079 [-1.948, 2.999], loss: 0.121765, mean_absolute_error: 0.400697, mean_q: 1.054523\n",
      "  103/5000: episode: 10, duration: 0.293s, episode steps: 14, steps per second: 48, episode reward: 14.000, mean reward: 1.000 [1.000, 1.000], mean action: 0.286 [0.000, 1.000], mean observation: 0.087 [-1.206, 2.066], loss: 0.139591, mean_absolute_error: 0.364367, mean_q: 1.129104\n",
      "  112/5000: episode: 11, duration: 0.181s, episode steps: 9, steps per second: 50, episode reward: 9.000, mean reward: 1.000 [1.000, 1.000], mean action: 0.111 [0.000, 1.000], mean observation: 0.141 [-1.416, 2.337], loss: 0.128331, mean_absolute_error: 0.288789, mean_q: 1.243049\n",
      "  122/5000: episode: 12, duration: 0.230s, episode steps: 10, steps per second: 44, episode reward: 10.000, mean reward: 1.000 [1.000, 1.000], mean action: 0.000 [0.000, 0.000], mean observation: 0.139 [-1.927, 2.971], loss: 0.118496, mean_absolute_error: 0.307074, mean_q: 1.346867\n",
      "  132/5000: episode: 13, duration: 0.220s, episode steps: 10, steps per second: 46, episode reward: 10.000, mean reward: 1.000 [1.000, 1.000], mean action: 0.100 [0.000, 1.000], mean observation: 0.124 [-1.803, 2.703], loss: 0.095677, mean_absolute_error: 0.395904, mean_q: 1.436482\n",
      "  140/5000: episode: 14, duration: 0.156s, episode steps: 8, steps per second: 51, episode reward: 8.000, mean reward: 1.000 [1.000, 1.000], mean action: 0.000 [0.000, 0.000], mean observation: 0.134 [-1.615, 2.541], loss: 0.070968, mean_absolute_error: 0.477248, mean_q: 1.533770\n",
      "  150/5000: episode: 15, duration: 0.246s, episode steps: 10, steps per second: 41, episode reward: 10.000, mean reward: 1.000 [1.000, 1.000], mean action: 0.000 [0.000, 0.000], mean observation: 0.148 [-1.949, 3.091], loss: 0.082488, mean_absolute_error: 0.568184, mean_q: 1.613902\n",
      "  161/5000: episode: 16, duration: 0.230s, episode steps: 11, steps per second: 48, episode reward: 11.000, mean reward: 1.000 [1.000, 1.000], mean action: 0.091 [0.000, 1.000], mean observation: 0.110 [-1.802, 2.810], loss: 0.066534, mean_absolute_error: 0.623249, mean_q: 1.621812\n",
      "  171/5000: episode: 17, duration: 0.278s, episode steps: 10, steps per second: 36, episode reward: 10.000, mean reward: 1.000 [1.000, 1.000], mean action: 0.000 [0.000, 0.000], mean observation: 0.148 [-1.973, 3.121], loss: 0.071049, mean_absolute_error: 0.698428, mean_q: 1.691370\n",
      "  181/5000: episode: 18, duration: 0.215s, episode steps: 10, steps per second: 47, episode reward: 10.000, mean reward: 1.000 [1.000, 1.000], mean action: 0.100 [0.000, 1.000], mean observation: 0.136 [-1.581, 2.556], loss: 0.065120, mean_absolute_error: 0.759132, mean_q: 1.806131\n",
      "  191/5000: episode: 19, duration: 0.235s, episode steps: 10, steps per second: 43, episode reward: 10.000, mean reward: 1.000 [1.000, 1.000], mean action: 0.000 [0.000, 0.000], mean observation: 0.152 [-1.913, 3.035], loss: 0.063073, mean_absolute_error: 0.823417, mean_q: 1.819930\n",
      "  202/5000: episode: 20, duration: 0.267s, episode steps: 11, steps per second: 41, episode reward: 11.000, mean reward: 1.000 [1.000, 1.000], mean action: 0.091 [0.000, 1.000], mean observation: 0.138 [-1.718, 2.803], loss: 0.070434, mean_absolute_error: 0.874549, mean_q: 1.898308\n",
      "  212/5000: episode: 21, duration: 0.232s, episode steps: 10, steps per second: 43, episode reward: 10.000, mean reward: 1.000 [1.000, 1.000], mean action: 0.000 [0.000, 0.000], mean observation: 0.127 [-1.980, 2.998], loss: 0.068502, mean_absolute_error: 0.931712, mean_q: 1.934560\n",
      "  222/5000: episode: 22, duration: 0.189s, episode steps: 10, steps per second: 53, episode reward: 10.000, mean reward: 1.000 [1.000, 1.000], mean action: 0.000 [0.000, 0.000], mean observation: 0.123 [-1.999, 3.041], loss: 0.074263, mean_absolute_error: 0.987722, mean_q: 1.967857\n",
      "  231/5000: episode: 23, duration: 0.166s, episode steps: 9, steps per second: 54, episode reward: 9.000, mean reward: 1.000 [1.000, 1.000], mean action: 0.000 [0.000, 0.000], mean observation: 0.139 [-1.738, 2.748], loss: 0.064592, mean_absolute_error: 1.034082, mean_q: 2.119306\n",
      "  240/5000: episode: 24, duration: 0.158s, episode steps: 9, steps per second: 57, episode reward: 9.000, mean reward: 1.000 [1.000, 1.000], mean action: 0.000 [0.000, 0.000], mean observation: 0.155 [-1.746, 2.850], loss: 0.077702, mean_absolute_error: 1.058250, mean_q: 2.098258\n",
      "  251/5000: episode: 25, duration: 0.204s, episode steps: 11, steps per second: 54, episode reward: 11.000, mean reward: 1.000 [1.000, 1.000], mean action: 0.091 [0.000, 1.000], mean observation: 0.111 [-1.796, 2.806], loss: 0.081298, mean_absolute_error: 1.088085, mean_q: 2.111058\n",
      "  260/5000: episode: 26, duration: 0.194s, episode steps: 9, steps per second: 46, episode reward: 9.000, mean reward: 1.000 [1.000, 1.000], mean action: 0.000 [0.000, 0.000], mean observation: 0.152 [-1.796, 2.892], loss: 0.077741, mean_absolute_error: 1.114471, mean_q: 2.186138\n",
      "  273/5000: episode: 27, duration: 0.316s, episode steps: 13, steps per second: 41, episode reward: 13.000, mean reward: 1.000 [1.000, 1.000], mean action: 0.154 [0.000, 1.000], mean observation: 0.103 [-1.739, 2.774], loss: 0.077320, mean_absolute_error: 1.146276, mean_q: 2.251404\n",
      "  282/5000: episode: 28, duration: 0.193s, episode steps: 9, steps per second: 47, episode reward: 9.000, mean reward: 1.000 [1.000, 1.000], mean action: 0.000 [0.000, 0.000], mean observation: 0.139 [-1.796, 2.778], loss: 0.081063, mean_absolute_error: 1.191477, mean_q: 2.342047\n",
      "  292/5000: episode: 29, duration: 0.203s, episode steps: 10, steps per second: 49, episode reward: 10.000, mean reward: 1.000 [1.000, 1.000], mean action: 0.100 [0.000, 1.000], mean observation: 0.153 [-1.532, 2.651], loss: 0.079973, mean_absolute_error: 1.219366, mean_q: 2.331748\n",
      "  302/5000: episode: 30, duration: 0.193s, episode steps: 10, steps per second: 52, episode reward: 10.000, mean reward: 1.000 [1.000, 1.000], mean action: 0.100 [0.000, 1.000], mean observation: 0.129 [-1.774, 2.712], loss: 0.070742, mean_absolute_error: 1.254439, mean_q: 2.433022\n",
      "  312/5000: episode: 31, duration: 0.183s, episode steps: 10, steps per second: 55, episode reward: 10.000, mean reward: 1.000 [1.000, 1.000], mean action: 0.100 [0.000, 1.000], mean observation: 0.108 [-1.796, 2.658], loss: 0.055471, mean_absolute_error: 1.285317, mean_q: 2.548258\n",
      "  322/5000: episode: 32, duration: 0.255s, episode steps: 10, steps per second: 39, episode reward: 10.000, mean reward: 1.000 [1.000, 1.000], mean action: 0.100 [0.000, 1.000], mean observation: 0.139 [-1.533, 2.562], loss: 0.071464, mean_absolute_error: 1.329019, mean_q: 2.573398\n",
      "  334/5000: episode: 33, duration: 0.312s, episode steps: 12, steps per second: 38, episode reward: 12.000, mean reward: 1.000 [1.000, 1.000], mean action: 0.250 [0.000, 1.000], mean observation: 0.123 [-1.534, 2.388], loss: 0.066819, mean_absolute_error: 1.384781, mean_q: 2.682146\n",
      "  343/5000: episode: 34, duration: 0.243s, episode steps: 9, steps per second: 37, episode reward: 9.000, mean reward: 1.000 [1.000, 1.000], mean action: 0.000 [0.000, 0.000], mean observation: 0.155 [-1.731, 2.778], loss: 0.059836, mean_absolute_error: 1.399764, mean_q: 2.693549\n",
      "  352/5000: episode: 35, duration: 0.184s, episode steps: 9, steps per second: 49, episode reward: 9.000, mean reward: 1.000 [1.000, 1.000], mean action: 0.000 [0.000, 0.000], mean observation: 0.159 [-1.780, 2.900], loss: 0.089213, mean_absolute_error: 1.431070, mean_q: 2.832372\n",
      "  362/5000: episode: 36, duration: 0.207s, episode steps: 10, steps per second: 48, episode reward: 10.000, mean reward: 1.000 [1.000, 1.000], mean action: 0.000 [0.000, 0.000], mean observation: 0.160 [-1.964, 3.140], loss: 0.091579, mean_absolute_error: 1.423681, mean_q: 2.700682\n",
      "  371/5000: episode: 37, duration: 0.190s, episode steps: 9, steps per second: 47, episode reward: 9.000, mean reward: 1.000 [1.000, 1.000], mean action: 0.000 [0.000, 0.000], mean observation: 0.162 [-1.727, 2.811], loss: 0.079348, mean_absolute_error: 1.487802, mean_q: 2.930571\n",
      "  379/5000: episode: 38, duration: 0.160s, episode steps: 8, steps per second: 50, episode reward: 8.000, mean reward: 1.000 [1.000, 1.000], mean action: 0.000 [0.000, 0.000], mean observation: 0.155 [-1.581, 2.556], loss: 0.062007, mean_absolute_error: 1.512488, mean_q: 2.944650\n",
      "  387/5000: episode: 39, duration: 0.164s, episode steps: 8, steps per second: 49, episode reward: 8.000, mean reward: 1.000 [1.000, 1.000], mean action: 0.000 [0.000, 0.000], mean observation: 0.164 [-1.541, 2.591], loss: 0.084458, mean_absolute_error: 1.524852, mean_q: 2.949712\n",
      "  398/5000: episode: 40, duration: 0.200s, episode steps: 11, steps per second: 55, episode reward: 11.000, mean reward: 1.000 [1.000, 1.000], mean action: 0.091 [0.000, 1.000], mean observation: 0.131 [-1.728, 2.809], loss: 0.076220, mean_absolute_error: 1.527885, mean_q: 3.007333\n",
      "  406/5000: episode: 41, duration: 0.184s, episode steps: 8, steps per second: 43, episode reward: 8.000, mean reward: 1.000 [1.000, 1.000], mean action: 0.000 [0.000, 0.000], mean observation: 0.160 [-1.566, 2.566], loss: 0.083648, mean_absolute_error: 1.534160, mean_q: 3.059125\n",
      "  416/5000: episode: 42, duration: 0.178s, episode steps: 10, steps per second: 56, episode reward: 10.000, mean reward: 1.000 [1.000, 1.000], mean action: 0.000 [0.000, 0.000], mean observation: 0.143 [-1.985, 3.080], loss: 0.091116, mean_absolute_error: 1.561760, mean_q: 3.074833\n",
      "  425/5000: episode: 43, duration: 0.188s, episode steps: 9, steps per second: 48, episode reward: 9.000, mean reward: 1.000 [1.000, 1.000], mean action: 0.111 [0.000, 1.000], mean observation: 0.136 [-1.374, 2.305], loss: 0.089746, mean_absolute_error: 1.596534, mean_q: 3.163151\n",
      "  435/5000: episode: 44, duration: 0.178s, episode steps: 10, steps per second: 56, episode reward: 10.000, mean reward: 1.000 [1.000, 1.000], mean action: 0.000 [0.000, 0.000], mean observation: 0.133 [-2.001, 3.034], loss: 0.072898, mean_absolute_error: 1.647747, mean_q: 3.271515\n",
      "  445/5000: episode: 45, duration: 0.186s, episode steps: 10, steps per second: 54, episode reward: 10.000, mean reward: 1.000 [1.000, 1.000], mean action: 0.000 [0.000, 0.000], mean observation: 0.147 [-1.951, 3.050], loss: 0.078870, mean_absolute_error: 1.682777, mean_q: 3.266930\n",
      "  454/5000: episode: 46, duration: 0.170s, episode steps: 9, steps per second: 53, episode reward: 9.000, mean reward: 1.000 [1.000, 1.000], mean action: 1.000 [1.000, 1.000], mean observation: -0.153 [-2.801, 1.765], loss: 0.082590, mean_absolute_error: 1.677709, mean_q: 3.207698\n",
      "  464/5000: episode: 47, duration: 0.204s, episode steps: 10, steps per second: 49, episode reward: 10.000, mean reward: 1.000 [1.000, 1.000], mean action: 1.000 [1.000, 1.000], mean observation: -0.112 [-2.997, 1.996], loss: 0.085293, mean_absolute_error: 1.776386, mean_q: 3.397933\n",
      "  473/5000: episode: 48, duration: 0.179s, episode steps: 9, steps per second: 50, episode reward: 9.000, mean reward: 1.000 [1.000, 1.000], mean action: 1.000 [1.000, 1.000], mean observation: -0.155 [-2.854, 1.791], loss: 0.188969, mean_absolute_error: 1.814372, mean_q: 3.449230\n",
      "  483/5000: episode: 49, duration: 0.199s, episode steps: 10, steps per second: 50, episode reward: 10.000, mean reward: 1.000 [1.000, 1.000], mean action: 0.000 [0.000, 0.000], mean observation: 0.154 [-1.941, 3.063], loss: 0.058440, mean_absolute_error: 1.867050, mean_q: 3.683576\n",
      "  494/5000: episode: 50, duration: 0.238s, episode steps: 11, steps per second: 46, episode reward: 11.000, mean reward: 1.000 [1.000, 1.000], mean action: 0.909 [0.000, 1.000], mean observation: -0.128 [-2.727, 1.731], loss: 0.167050, mean_absolute_error: 1.906249, mean_q: 3.574075\n",
      "  507/5000: episode: 51, duration: 0.294s, episode steps: 13, steps per second: 44, episode reward: 13.000, mean reward: 1.000 [1.000, 1.000], mean action: 0.692 [0.000, 1.000], mean observation: -0.076 [-2.263, 1.549], loss: 0.256729, mean_absolute_error: 2.020367, mean_q: 3.816306\n",
      "  517/5000: episode: 52, duration: 0.176s, episode steps: 10, steps per second: 57, episode reward: 10.000, mean reward: 1.000 [1.000, 1.000], mean action: 0.000 [0.000, 0.000], mean observation: 0.121 [-1.991, 2.995], loss: 0.210242, mean_absolute_error: 2.033369, mean_q: 3.863764\n",
      "  525/5000: episode: 53, duration: 0.241s, episode steps: 8, steps per second: 33, episode reward: 8.000, mean reward: 1.000 [1.000, 1.000], mean action: 0.125 [0.000, 1.000], mean observation: 0.151 [-1.339, 2.232], loss: 0.121800, mean_absolute_error: 2.020277, mean_q: 3.897574\n",
      "  535/5000: episode: 54, duration: 0.180s, episode steps: 10, steps per second: 55, episode reward: 10.000, mean reward: 1.000 [1.000, 1.000], mean action: 0.200 [0.000, 1.000], mean observation: 0.143 [-1.531, 2.373], loss: 0.346959, mean_absolute_error: 2.132066, mean_q: 3.965499\n",
      "  550/5000: episode: 55, duration: 0.403s, episode steps: 15, steps per second: 37, episode reward: 15.000, mean reward: 1.000 [1.000, 1.000], mean action: 0.533 [0.000, 1.000], mean observation: -0.105 [-1.066, 0.604], loss: 0.311157, mean_absolute_error: 2.167721, mean_q: 3.962933\n",
      "  595/5000: episode: 56, duration: 0.938s, episode steps: 45, steps per second: 48, episode reward: 45.000, mean reward: 1.000 [1.000, 1.000], mean action: 0.467 [0.000, 1.000], mean observation: 0.009 [-1.535, 1.882], loss: 0.234124, mean_absolute_error: 2.205003, mean_q: 4.139811\n",
      "  651/5000: episode: 57, duration: 0.979s, episode steps: 56, steps per second: 57, episode reward: 56.000, mean reward: 1.000 [1.000, 1.000], mean action: 0.518 [0.000, 1.000], mean observation: -0.060 [-1.522, 1.357], loss: 0.196240, mean_absolute_error: 2.414162, mean_q: 4.603861\n",
      "  697/5000: episode: 58, duration: 0.804s, episode steps: 46, steps per second: 57, episode reward: 46.000, mean reward: 1.000 [1.000, 1.000], mean action: 0.500 [0.000, 1.000], mean observation: -0.033 [-1.366, 1.784], loss: 0.227071, mean_absolute_error: 2.603401, mean_q: 4.941600\n",
      "  714/5000: episode: 59, duration: 0.313s, episode steps: 17, steps per second: 54, episode reward: 17.000, mean reward: 1.000 [1.000, 1.000], mean action: 0.471 [0.000, 1.000], mean observation: -0.094 [-1.478, 0.952], loss: 0.249134, mean_absolute_error: 2.689676, mean_q: 5.127802\n",
      "  725/5000: episode: 60, duration: 0.195s, episode steps: 11, steps per second: 56, episode reward: 11.000, mean reward: 1.000 [1.000, 1.000], mean action: 0.545 [0.000, 1.000], mean observation: -0.109 [-1.379, 0.835], loss: 0.253873, mean_absolute_error: 2.743289, mean_q: 5.242418\n",
      "  736/5000: episode: 61, duration: 0.214s, episode steps: 11, steps per second: 51, episode reward: 11.000, mean reward: 1.000 [1.000, 1.000], mean action: 0.636 [0.000, 1.000], mean observation: -0.113 [-1.497, 0.988], loss: 0.181201, mean_absolute_error: 2.811226, mean_q: 5.430143\n",
      "  748/5000: episode: 62, duration: 0.234s, episode steps: 12, steps per second: 51, episode reward: 12.000, mean reward: 1.000 [1.000, 1.000], mean action: 0.583 [0.000, 1.000], mean observation: -0.101 [-1.751, 1.147], loss: 0.523501, mean_absolute_error: 2.916682, mean_q: 5.483419\n",
      "  783/5000: episode: 63, duration: 0.709s, episode steps: 35, steps per second: 49, episode reward: 35.000, mean reward: 1.000 [1.000, 1.000], mean action: 0.486 [0.000, 1.000], mean observation: -0.114 [-1.466, 1.132], loss: 0.394286, mean_absolute_error: 2.945701, mean_q: 5.515106\n",
      "  801/5000: episode: 64, duration: 0.322s, episode steps: 18, steps per second: 56, episode reward: 18.000, mean reward: 1.000 [1.000, 1.000], mean action: 0.556 [0.000, 1.000], mean observation: -0.081 [-1.182, 0.561], loss: 0.427588, mean_absolute_error: 3.092437, mean_q: 5.893325\n",
      "  812/5000: episode: 65, duration: 0.193s, episode steps: 11, steps per second: 57, episode reward: 11.000, mean reward: 1.000 [1.000, 1.000], mean action: 0.636 [0.000, 1.000], mean observation: -0.126 [-1.767, 1.140], loss: 0.453198, mean_absolute_error: 3.201794, mean_q: 6.075505\n",
      "  822/5000: episode: 66, duration: 0.183s, episode steps: 10, steps per second: 55, episode reward: 10.000, mean reward: 1.000 [1.000, 1.000], mean action: 0.700 [0.000, 1.000], mean observation: -0.162 [-1.857, 1.129], loss: 0.506904, mean_absolute_error: 3.252125, mean_q: 6.131771\n",
      "  836/5000: episode: 67, duration: 0.257s, episode steps: 14, steps per second: 54, episode reward: 14.000, mean reward: 1.000 [1.000, 1.000], mean action: 0.571 [0.000, 1.000], mean observation: -0.074 [-1.772, 1.172], loss: 0.477866, mean_absolute_error: 3.324711, mean_q: 6.335025\n",
      "  845/5000: episode: 68, duration: 0.157s, episode steps: 9, steps per second: 57, episode reward: 9.000, mean reward: 1.000 [1.000, 1.000], mean action: 0.667 [0.000, 1.000], mean observation: -0.148 [-1.679, 0.997], loss: 0.595863, mean_absolute_error: 3.258948, mean_q: 6.127433\n",
      "  857/5000: episode: 69, duration: 0.251s, episode steps: 12, steps per second: 48, episode reward: 12.000, mean reward: 1.000 [1.000, 1.000], mean action: 0.583 [0.000, 1.000], mean observation: -0.094 [-1.748, 1.179], loss: 0.345608, mean_absolute_error: 3.316794, mean_q: 6.294216\n",
      "  874/5000: episode: 70, duration: 0.308s, episode steps: 17, steps per second: 55, episode reward: 17.000, mean reward: 1.000 [1.000, 1.000], mean action: 0.588 [0.000, 1.000], mean observation: -0.075 [-1.420, 0.976], loss: 0.701113, mean_absolute_error: 3.384685, mean_q: 6.300581\n",
      "  894/5000: episode: 71, duration: 0.368s, episode steps: 20, steps per second: 54, episode reward: 20.000, mean reward: 1.000 [1.000, 1.000], mean action: 0.500 [0.000, 1.000], mean observation: -0.093 [-1.190, 0.804], loss: 0.640461, mean_absolute_error: 3.439634, mean_q: 6.458479\n",
      "  908/5000: episode: 72, duration: 0.252s, episode steps: 14, steps per second: 55, episode reward: 14.000, mean reward: 1.000 [1.000, 1.000], mean action: 0.571 [0.000, 1.000], mean observation: -0.085 [-1.152, 0.760], loss: 0.581897, mean_absolute_error: 3.512544, mean_q: 6.606342\n",
      "  921/5000: episode: 73, duration: 0.244s, episode steps: 13, steps per second: 53, episode reward: 13.000, mean reward: 1.000 [1.000, 1.000], mean action: 0.462 [0.000, 1.000], mean observation: -0.072 [-1.749, 1.200], loss: 0.533898, mean_absolute_error: 3.483140, mean_q: 6.571607\n",
      "  944/5000: episode: 74, duration: 0.428s, episode steps: 23, steps per second: 54, episode reward: 23.000, mean reward: 1.000 [1.000, 1.000], mean action: 0.522 [0.000, 1.000], mean observation: -0.084 [-1.023, 0.609], loss: 0.593497, mean_absolute_error: 3.575340, mean_q: 6.762349\n",
      "  955/5000: episode: 75, duration: 0.202s, episode steps: 11, steps per second: 54, episode reward: 11.000, mean reward: 1.000 [1.000, 1.000], mean action: 0.636 [0.000, 1.000], mean observation: -0.132 [-1.639, 0.961], loss: 0.686618, mean_absolute_error: 3.644789, mean_q: 6.809423\n",
      "  964/5000: episode: 76, duration: 0.181s, episode steps: 9, steps per second: 50, episode reward: 9.000, mean reward: 1.000 [1.000, 1.000], mean action: 0.778 [0.000, 1.000], mean observation: -0.143 [-1.880, 1.142], loss: 0.479772, mean_absolute_error: 3.675650, mean_q: 6.994358\n",
      "  978/5000: episode: 77, duration: 0.297s, episode steps: 14, steps per second: 47, episode reward: 14.000, mean reward: 1.000 [1.000, 1.000], mean action: 0.571 [0.000, 1.000], mean observation: -0.088 [-1.680, 1.154], loss: 0.578668, mean_absolute_error: 3.759870, mean_q: 7.118351\n",
      "  988/5000: episode: 78, duration: 0.212s, episode steps: 10, steps per second: 47, episode reward: 10.000, mean reward: 1.000 [1.000, 1.000], mean action: 0.700 [0.000, 1.000], mean observation: -0.149 [-1.844, 1.124], loss: 0.183407, mean_absolute_error: 3.809128, mean_q: 7.379781\n",
      " 1049/5000: episode: 79, duration: 1.396s, episode steps: 61, steps per second: 44, episode reward: 61.000, mean reward: 1.000 [1.000, 1.000], mean action: 0.492 [0.000, 1.000], mean observation: -0.054 [-1.166, 0.964], loss: 0.550743, mean_absolute_error: 3.900471, mean_q: 7.441955\n",
      " 1089/5000: episode: 80, duration: 0.701s, episode steps: 40, steps per second: 57, episode reward: 40.000, mean reward: 1.000 [1.000, 1.000], mean action: 0.450 [0.000, 1.000], mean observation: -0.158 [-0.921, 0.560], loss: 0.580624, mean_absolute_error: 4.146132, mean_q: 7.945935\n",
      " 1162/5000: episode: 81, duration: 1.344s, episode steps: 73, steps per second: 54, episode reward: 73.000, mean reward: 1.000 [1.000, 1.000], mean action: 0.521 [0.000, 1.000], mean observation: 0.089 [-0.482, 0.877], loss: 0.657046, mean_absolute_error: 4.325369, mean_q: 8.261775\n",
      " 1200/5000: episode: 82, duration: 0.707s, episode steps: 38, steps per second: 54, episode reward: 38.000, mean reward: 1.000 [1.000, 1.000], mean action: 0.447 [0.000, 1.000], mean observation: -0.117 [-0.732, 0.428], loss: 0.754427, mean_absolute_error: 4.452795, mean_q: 8.432544\n",
      " 1257/5000: episode: 83, duration: 0.979s, episode steps: 57, steps per second: 58, episode reward: 57.000, mean reward: 1.000 [1.000, 1.000], mean action: 0.474 [0.000, 1.000], mean observation: -0.111 [-0.890, 0.284], loss: 0.721963, mean_absolute_error: 4.641758, mean_q: 8.905077\n",
      " 1294/5000: episode: 84, duration: 0.640s, episode steps: 37, steps per second: 58, episode reward: 37.000, mean reward: 1.000 [1.000, 1.000], mean action: 0.459 [0.000, 1.000], mean observation: -0.113 [-0.672, 0.397], loss: 0.760414, mean_absolute_error: 4.836634, mean_q: 9.286230\n",
      " 1340/5000: episode: 85, duration: 0.813s, episode steps: 46, steps per second: 57, episode reward: 46.000, mean reward: 1.000 [1.000, 1.000], mean action: 0.478 [0.000, 1.000], mean observation: -0.115 [-0.982, 0.199], loss: 0.930067, mean_absolute_error: 4.941189, mean_q: 9.469278\n",
      " 1412/5000: episode: 86, duration: 1.266s, episode steps: 72, steps per second: 57, episode reward: 72.000, mean reward: 1.000 [1.000, 1.000], mean action: 0.514 [0.000, 1.000], mean observation: 0.122 [-0.371, 1.115], loss: 0.739579, mean_absolute_error: 5.201705, mean_q: 10.086107\n",
      " 1457/5000: episode: 87, duration: 0.777s, episode steps: 45, steps per second: 58, episode reward: 45.000, mean reward: 1.000 [1.000, 1.000], mean action: 0.467 [0.000, 1.000], mean observation: -0.139 [-0.836, 0.419], loss: 1.002285, mean_absolute_error: 5.342117, mean_q: 10.217939\n",
      " 1507/5000: episode: 88, duration: 0.878s, episode steps: 50, steps per second: 57, episode reward: 50.000, mean reward: 1.000 [1.000, 1.000], mean action: 0.480 [0.000, 1.000], mean observation: -0.113 [-0.716, 0.392], loss: 1.122974, mean_absolute_error: 5.548261, mean_q: 10.642238\n",
      " 1571/5000: episode: 89, duration: 1.095s, episode steps: 64, steps per second: 58, episode reward: 64.000, mean reward: 1.000 [1.000, 1.000], mean action: 0.516 [0.000, 1.000], mean observation: 0.047 [-0.493, 0.715], loss: 0.580226, mean_absolute_error: 5.720530, mean_q: 11.202162\n",
      " 1753/5000: episode: 90, duration: 3.056s, episode steps: 182, steps per second: 60, episode reward: 182.000, mean reward: 1.000 [1.000, 1.000], mean action: 0.505 [0.000, 1.000], mean observation: 0.021 [-0.461, 0.697], loss: 0.929221, mean_absolute_error: 6.085616, mean_q: 11.862687\n",
      " 1826/5000: episode: 91, duration: 1.245s, episode steps: 73, steps per second: 59, episode reward: 73.000, mean reward: 1.000 [1.000, 1.000], mean action: 0.479 [0.000, 1.000], mean observation: -0.122 [-0.989, 0.322], loss: 0.727821, mean_absolute_error: 6.491080, mean_q: 12.783254\n",
      " 1925/5000: episode: 92, duration: 1.675s, episode steps: 99, steps per second: 59, episode reward: 99.000, mean reward: 1.000 [1.000, 1.000], mean action: 0.525 [0.000, 1.000], mean observation: 0.085 [-0.440, 0.896], loss: 1.189907, mean_absolute_error: 6.810738, mean_q: 13.360063\n",
      " 2049/5000: episode: 93, duration: 2.095s, episode steps: 124, steps per second: 59, episode reward: 124.000, mean reward: 1.000 [1.000, 1.000], mean action: 0.484 [0.000, 1.000], mean observation: -0.111 [-0.876, 0.312], loss: 0.921257, mean_absolute_error: 7.273181, mean_q: 14.402253\n",
      " 2088/5000: episode: 94, duration: 0.679s, episode steps: 39, steps per second: 57, episode reward: 39.000, mean reward: 1.000 [1.000, 1.000], mean action: 0.538 [0.000, 1.000], mean observation: 0.153 [-0.168, 0.776], loss: 1.303451, mean_absolute_error: 7.549085, mean_q: 14.889772\n",
      " 2186/5000: episode: 95, duration: 1.676s, episode steps: 98, steps per second: 58, episode reward: 98.000, mean reward: 1.000 [1.000, 1.000], mean action: 0.520 [0.000, 1.000], mean observation: 0.119 [-0.393, 1.094], loss: 1.106846, mean_absolute_error: 7.788571, mean_q: 15.435376\n",
      " 2287/5000: episode: 96, duration: 1.712s, episode steps: 101, steps per second: 59, episode reward: 101.000, mean reward: 1.000 [1.000, 1.000], mean action: 0.535 [0.000, 1.000], mean observation: 0.106 [-0.428, 1.232], loss: 1.096160, mean_absolute_error: 8.089691, mean_q: 16.008945\n",
      " 2371/5000: episode: 97, duration: 1.425s, episode steps: 84, steps per second: 59, episode reward: 84.000, mean reward: 1.000 [1.000, 1.000], mean action: 0.536 [0.000, 1.000], mean observation: 0.128 [-0.569, 1.063], loss: 0.989237, mean_absolute_error: 8.412307, mean_q: 16.765528\n",
      " 2476/5000: episode: 98, duration: 1.764s, episode steps: 105, steps per second: 60, episode reward: 105.000, mean reward: 1.000 [1.000, 1.000], mean action: 0.533 [0.000, 1.000], mean observation: 0.113 [-0.517, 1.230], loss: 1.041677, mean_absolute_error: 8.847448, mean_q: 17.708952\n",
      " 2546/5000: episode: 99, duration: 1.185s, episode steps: 70, steps per second: 59, episode reward: 70.000, mean reward: 1.000 [1.000, 1.000], mean action: 0.543 [0.000, 1.000], mean observation: 0.163 [-0.355, 1.119], loss: 1.156541, mean_absolute_error: 9.121888, mean_q: 18.221539\n",
      " 2641/5000: episode: 100, duration: 1.611s, episode steps: 95, steps per second: 59, episode reward: 95.000, mean reward: 1.000 [1.000, 1.000], mean action: 0.526 [0.000, 1.000], mean observation: 0.114 [-0.364, 1.130], loss: 1.499779, mean_absolute_error: 9.452279, mean_q: 18.800045\n",
      " 2723/5000: episode: 101, duration: 1.382s, episode steps: 82, steps per second: 59, episode reward: 82.000, mean reward: 1.000 [1.000, 1.000], mean action: 0.537 [0.000, 1.000], mean observation: 0.139 [-0.436, 1.043], loss: 1.209236, mean_absolute_error: 9.708481, mean_q: 19.367573\n",
      " 2797/5000: episode: 102, duration: 1.260s, episode steps: 74, steps per second: 59, episode reward: 74.000, mean reward: 1.000 [1.000, 1.000], mean action: 0.527 [0.000, 1.000], mean observation: 0.148 [-0.454, 0.947], loss: 1.623925, mean_absolute_error: 9.965885, mean_q: 19.929667\n",
      " 2863/5000: episode: 103, duration: 1.120s, episode steps: 66, steps per second: 59, episode reward: 66.000, mean reward: 1.000 [1.000, 1.000], mean action: 0.545 [0.000, 1.000], mean observation: 0.191 [-0.370, 1.111], loss: 1.789573, mean_absolute_error: 10.180555, mean_q: 20.247610\n",
      " 2939/5000: episode: 104, duration: 1.324s, episode steps: 76, steps per second: 57, episode reward: 76.000, mean reward: 1.000 [1.000, 1.000], mean action: 0.539 [0.000, 1.000], mean observation: 0.130 [-0.406, 1.050], loss: 1.043781, mean_absolute_error: 10.292634, mean_q: 20.656088\n",
      " 3035/5000: episode: 105, duration: 1.640s, episode steps: 96, steps per second: 59, episode reward: 96.000, mean reward: 1.000 [1.000, 1.000], mean action: 0.521 [0.000, 1.000], mean observation: 0.096 [-0.400, 0.894], loss: 1.475052, mean_absolute_error: 10.664140, mean_q: 21.386496\n",
      " 3200/5000: episode: 106, duration: 2.761s, episode steps: 165, steps per second: 60, episode reward: 165.000, mean reward: 1.000 [1.000, 1.000], mean action: 0.479 [0.000, 1.000], mean observation: -0.187 [-1.476, 0.644], loss: 1.373528, mean_absolute_error: 11.197939, mean_q: 22.509579\n",
      " 3267/5000: episode: 107, duration: 1.145s, episode steps: 67, steps per second: 59, episode reward: 67.000, mean reward: 1.000 [1.000, 1.000], mean action: 0.552 [0.000, 1.000], mean observation: 0.197 [-0.522, 1.310], loss: 1.151937, mean_absolute_error: 11.598541, mean_q: 23.290773\n",
      " 3391/5000: episode: 108, duration: 2.089s, episode steps: 124, steps per second: 59, episode reward: 124.000, mean reward: 1.000 [1.000, 1.000], mean action: 0.548 [0.000, 1.000], mean observation: 0.353 [-0.617, 2.403], loss: 1.269087, mean_absolute_error: 11.795403, mean_q: 23.745075\n",
      " 3545/5000: episode: 109, duration: 2.579s, episode steps: 154, steps per second: 60, episode reward: 154.000, mean reward: 1.000 [1.000, 1.000], mean action: 0.539 [0.000, 1.000], mean observation: 0.286 [-0.381, 2.416], loss: 1.291371, mean_absolute_error: 12.081184, mean_q: 24.349924\n",
      " 3676/5000: episode: 110, duration: 2.242s, episode steps: 131, steps per second: 58, episode reward: 131.000, mean reward: 1.000 [1.000, 1.000], mean action: 0.542 [0.000, 1.000], mean observation: 0.382 [-0.492, 2.352], loss: 1.203215, mean_absolute_error: 12.337623, mean_q: 24.876904\n",
      " 3871/5000: episode: 111, duration: 3.275s, episode steps: 195, steps per second: 60, episode reward: 195.000, mean reward: 1.000 [1.000, 1.000], mean action: 0.467 [0.000, 1.000], mean observation: -0.327 [-2.599, 0.604], loss: 1.328518, mean_absolute_error: 12.815363, mean_q: 25.892378\n",
      " 4139/5000: episode: 112, duration: 4.481s, episode steps: 268, steps per second: 60, episode reward: 268.000, mean reward: 1.000 [1.000, 1.000], mean action: 0.478 [0.000, 1.000], mean observation: -0.243 [-2.435, 0.575], loss: 1.356522, mean_absolute_error: 13.540467, mean_q: 27.454767\n",
      " 4309/5000: episode: 113, duration: 2.856s, episode steps: 170, steps per second: 60, episode reward: 170.000, mean reward: 1.000 [1.000, 1.000], mean action: 0.529 [0.000, 1.000], mean observation: 0.368 [-0.682, 2.416], loss: 1.643482, mean_absolute_error: 14.446880, mean_q: 29.290113\n",
      " 4527/5000: episode: 114, duration: 3.663s, episode steps: 218, steps per second: 60, episode reward: 218.000, mean reward: 1.000 [1.000, 1.000], mean action: 0.518 [0.000, 1.000], mean observation: 0.290 [-0.616, 2.407], loss: 1.424052, mean_absolute_error: 14.901326, mean_q: 30.254377\n",
      " 4775/5000: episode: 115, duration: 4.146s, episode steps: 248, steps per second: 60, episode reward: 248.000, mean reward: 1.000 [1.000, 1.000], mean action: 0.520 [0.000, 1.000], mean observation: 0.266 [-0.611, 2.425], loss: 1.269204, mean_absolute_error: 15.603442, mean_q: 31.712849\n",
      " 4971/5000: episode: 116, duration: 3.284s, episode steps: 196, steps per second: 60, episode reward: 196.000, mean reward: 1.000 [1.000, 1.000], mean action: 0.526 [0.000, 1.000], mean observation: 0.339 [-0.492, 2.414], loss: 1.692843, mean_absolute_error: 16.066788, mean_q: 32.600632\n",
      "done, took 89.806 seconds\n"
     ]
    },
    {
     "name": "stderr",
     "output_type": "stream",
     "text": [
      "C:\\ProgramData\\Anaconda3\\envs\\Space Invaders\\lib\\site-packages\\keras_rl-0.4.2-py3.7.egg\\rl\\memory.py:39: UserWarning: Not enough entries to sample without replacement. Consider increasing your warm-up phase to avoid oversampling!\n",
      "  warnings.warn('Not enough entries to sample without replacement. Consider increasing your warm-up phase to avoid oversampling!')\n",
      "C:\\ProgramData\\Anaconda3\\envs\\Space Invaders\\lib\\site-packages\\keras_rl-0.4.2-py3.7.egg\\rl\\memory.py:39: UserWarning: Not enough entries to sample without replacement. Consider increasing your warm-up phase to avoid oversampling!\n",
      "  warnings.warn('Not enough entries to sample without replacement. Consider increasing your warm-up phase to avoid oversampling!')\n",
      "C:\\ProgramData\\Anaconda3\\envs\\Space Invaders\\lib\\site-packages\\keras_rl-0.4.2-py3.7.egg\\rl\\memory.py:39: UserWarning: Not enough entries to sample without replacement. Consider increasing your warm-up phase to avoid oversampling!\n",
      "  warnings.warn('Not enough entries to sample without replacement. Consider increasing your warm-up phase to avoid oversampling!')\n"
     ]
    },
    {
     "data": {
      "text/plain": [
       "<keras.callbacks.History at 0x24129270358>"
      ]
     },
     "execution_count": 34,
     "metadata": {},
     "output_type": "execute_result"
    }
   ],
   "source": [
    "nb_actions = env.action_space.n\n",
    "policy = EpsGreedyQPolicy()\n",
    "memory = SequentialMemory(limit=50000, window_length=1)\n",
    "dqn = DQNAgent(model=model, nb_actions=nb_actions, memory=memory, nb_steps_warmup=10,\n",
    "target_model_update=1e-2, policy=policy)\n",
    "dqn.compile(keras.optimizers.Adam(lr=1e-3), metrics=['mae'])\n",
    "\n",
    "# Okay, now it's time to learn something! We visualize the training here for show, but this slows down training quite a lot. \n",
    "dqn.fit(env, nb_steps=5000, visualize=True, verbose=2)"
   ]
  },
  {
   "cell_type": "code",
   "execution_count": 35,
   "metadata": {
    "pycharm": {
     "is_executing": false,
     "name": "#%%\n"
    }
   },
   "outputs": [
    {
     "name": "stdout",
     "output_type": "stream",
     "text": [
      "Testing for 5 episodes ...\n",
      "Episode 1: reward: 176.000, steps: 176\n",
      "Episode 2: reward: 188.000, steps: 188\n",
      "Episode 3: reward: 190.000, steps: 190\n",
      "Episode 4: reward: 168.000, steps: 168\n",
      "Episode 5: reward: 170.000, steps: 170\n"
     ]
    },
    {
     "data": {
      "text/plain": [
       "<keras.callbacks.History at 0x2412a7a8c50>"
      ]
     },
     "execution_count": 35,
     "metadata": {},
     "output_type": "execute_result"
    }
   ],
   "source": [
    "dqn.test(env, nb_episodes=5, visualize=True)\n"
   ]
  }
 ],
 "metadata": {
  "kernelspec": {
   "display_name": "Python 3",
   "language": "python",
   "name": "python3"
  },
  "language_info": {
   "codemirror_mode": {
    "name": "ipython",
    "version": 3
   },
   "file_extension": ".py",
   "mimetype": "text/x-python",
   "name": "python",
   "nbconvert_exporter": "python",
   "pygments_lexer": "ipython3",
   "version": "3.7.3"
  },
  "pycharm": {
   "stem_cell": {
    "cell_type": "raw",
    "metadata": {
     "collapsed": false
    },
    "source": []
   }
  }
 },
 "nbformat": 4,
 "nbformat_minor": 2
}
