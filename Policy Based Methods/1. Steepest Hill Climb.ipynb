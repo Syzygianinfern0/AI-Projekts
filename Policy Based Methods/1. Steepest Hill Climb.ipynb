{
 "cells": [
  {
   "cell_type": "markdown",
   "metadata": {
    "collapsed": true,
    "pycharm": {
     "name": "#%% md\n"
    }
   },
   "source": [
    "# Steepest Hill Climb\n",
    "It refers to moving in the direction of steepest ascent of the reward-policy function. The \n",
    "method is not very good though as it may tend to get stuck in local maximas..."
   ]
  },
  {
   "cell_type": "code",
   "execution_count": 3,
   "outputs": [],
   "source": [
    "import gym\n",
    "import numpy as np\n",
    "import matplotlib.pyplot as plt\n",
    "from IPython.display import clear_output\n",
    "import random\n",
    "from collections import deque\n",
    "%matplotlib inline "
   ],
   "metadata": {
    "collapsed": false,
    "pycharm": {
     "name": "#%%\n",
     "is_executing": false
    }
   }
  },
  {
   "cell_type": "markdown",
   "source": [
    "# Agent class\n",
    "We will work on the cartpole environment as its good for 1st time experimentations. The policy is\n",
    "going to be a weights matrix which ouputs propabilities for each action. The propabilities \n",
    "will be generated using a $softmax$ function. Its given by \n",
    "\n",
    "![softmax](https://wikimedia.org/api/rest_v1/media/math/render/svg/02a859ba32ab892a2cdbfdafcd5a8f56e49e3d1c)\n",
    "\n",
    "Its normaly used in classification problems and hence is also suitable for this one"
   ],
   "metadata": {
    "collapsed": false,
    "pycharm": {
     "name": "#%% md\n"
    }
   }
  },
  {
   "cell_type": "code",
   "execution_count": 4,
   "outputs": [],
   "source": [
    "class HillClimber:\n",
    "    def __init__(self, env):\n",
    "        self.n_actions = env.action_space.n\n",
    "        self.n_observations = env.observation_space.shape[0]\n",
    "        self.policy = np.random.rand(self.n_observations, self.n_actions)\n",
    "        self.best_policy = np.copy(self.policy)\n",
    "        self.best_reward = -1\n",
    "        self.noise = 0.5\n",
    "        self.noise_max = 2\n",
    "        self.noise_min = 0.001\n",
    "        self.gamma = 0.98\n",
    "        \n",
    "    def get_action(self, state, policy=None):\n",
    "        if not policy:\n",
    "            actions = np.dot(state, self.policy)\n",
    "        else:\n",
    "            actions = np.dot(state, policy)\n",
    "        actions = np.exp(actions)\n",
    "        actions = actions / np.sum(actions)\n",
    "        return np.argmax(actions)\n",
    "            \n",
    "    def _noise_adder(self, better):\n",
    "        if better:\n",
    "            self.policy += np.random.normal(\n",
    "                loc=(self.noise_min + self.noise)/2,\n",
    "                scale=(self.noise - self.noise_min),\n",
    "                size=(self.n_observations, self.n_actions)\n",
    "            )\n",
    "        else:\n",
    "            self.policy = self.best_policy + np.random.normal(\n",
    "                loc=(self.noise_min + self.noise)/2,\n",
    "                scale=(self.noise - self.noise_min),\n",
    "                size=(self.n_observations, self.n_actions)\n",
    "            )\n",
    "            \n",
    "    def learn(self, discounted_reward):\n",
    "        if discounted_reward > self.best_reward:\n",
    "            self.best_reward = discounted_reward\n",
    "            self.best_policy = self.policy\n",
    "            if self.noise > self.noise_min:\n",
    "                self._noise_adder(better=True)\n",
    "                self.noise = max(self.noise_min, self.noise/2)\n",
    "        else:\n",
    "            if self.noise < self.noise_max:\n",
    "                self._noise_adder(better=False)\n",
    "                self.noise = min(self.noise_max, self.noise*1.1)\n",
    "        \n",
    "    def try_policy(self, env, evaluate=False):\n",
    "        discounted_reward = 0\n",
    "        state = env.reset()\n",
    "        state = np.reshape(state, (1,self.n_observations))\n",
    "        done = False\n",
    "        time_steps = 0\n",
    "        while not done:\n",
    "            time_steps += 1\n",
    "            action = self.get_action(state)\n",
    "            next_state, reward, done, _ = env.step(action)\n",
    "            if not evaluate:\n",
    "                discounted_reward += (self.gamma ** time_steps) * reward\n",
    "            else:\n",
    "                discounted_reward += reward\n",
    "                env.render()\n",
    "            state = next_state\n",
    "            state = np.reshape(state, (1,self.n_observations))\n",
    "        return discounted_reward"
   ],
   "metadata": {
    "collapsed": false,
    "pycharm": {
     "name": "#%%\n",
     "is_executing": false
    }
   }
  },
  {
   "cell_type": "markdown",
   "source": [
    "The environment handler"
   ],
   "metadata": {
    "collapsed": false,
    "pycharm": {
     "name": "#%% md\n"
    }
   }
  },
  {
   "cell_type": "code",
   "execution_count": 5,
   "outputs": [],
   "source": [
    "env = gym.make('CartPole-v1')\n",
    "EPOCHS = 200\n",
    "EVAL_FREQ = 5\n",
    "agent = HillClimber(env)"
   ],
   "metadata": {
    "collapsed": false,
    "pycharm": {
     "name": "#%%\n",
     "is_executing": false
    }
   }
  },
  {
   "cell_type": "code",
   "execution_count": 6,
   "outputs": [
    {
     "name": "stdout",
     "text": [
      "Epoch : 0    Evaluation Score : 8.0    Noise Scale : 0.25\nEpoch : 5    Evaluation Score : 8.0    Noise Scale : 0.18301250000000008\nEpoch : 10    Evaluation Score : 9.0    Noise Scale : 0.29474346137500024\n",
      "Epoch : 15    Evaluation Score : 10.0    Noise Scale : 0.47468729197905185\nEpoch : 20    Evaluation Score : 9.0    Noise Scale : 0.7644886306051829\nEpoch : 25    Evaluation Score : 9.0    Noise Scale : 1.2312165844759535\n",
      "Epoch : 30    Evaluation Score : 47.0    Noise Scale : 0.40968731848437356\nEpoch : 35    Evaluation Score : 23.0    Noise Scale : 0.29991160149648577\n",
      "Epoch : 40    Evaluation Score : 21.0    Noise Scale : 0.48301063332610544\nEpoch : 45    Evaluation Score : 11.0    Noise Scale : 0.35358793412637557\n",
      "Epoch : 50    Evaluation Score : 31.0    Noise Scale : 0.5694569037898694\n",
      "Epoch : 55    Evaluation Score : 30.0    Noise Scale : 0.416870926419374\n",
      "Epoch : 60    Evaluation Score : 40.0    Noise Scale : 0.3051703616853028\nEpoch : 65    Evaluation Score : 12.0    Noise Scale : 0.4914799191977972\n",
      "Epoch : 70    Evaluation Score : 23.0    Noise Scale : 0.7915333246672447\nEpoch : 75    Evaluation Score : 21.0    Noise Scale : 1.2747723347098447\n",
      "Epoch : 80    Evaluation Score : 123.0    Noise Scale : 2\n",
      "Epoch : 85    Evaluation Score : 29.0    Noise Scale : 1.1\n",
      "Epoch : 90    Evaluation Score : 124.0    Noise Scale : 0.36602500000000016\n",
      "Epoch : 95    Evaluation Score : 66.0    Noise Scale : 0.5894869227500005\n",
      "Epoch : 100    Evaluation Score : 319.0    Noise Scale : 0.9493745839581037\nEpoch : 105    Evaluation Score : 10.0    Noise Scale : 1.5289772612103658\n",
      "Epoch : 110    Evaluation Score : 62.0    Noise Scale : 2\n",
      "Epoch : 115    Evaluation Score : 84.0    Noise Scale : 2\n",
      "Epoch : 120    Evaluation Score : 117.0    Noise Scale : 2\n",
      "Epoch : 125    Evaluation Score : 68.0    Noise Scale : 2\n",
      "Epoch : 130    Evaluation Score : 62.0    Noise Scale : 2\n",
      "Epoch : 135    Evaluation Score : 398.0    Noise Scale : 2\n",
      "Epoch : 140    Evaluation Score : 223.0    Noise Scale : 2\n",
      "Epoch : 145    Evaluation Score : 183.0    Noise Scale : 2\n",
      "Epoch : 150    Evaluation Score : 95.0    Noise Scale : 2\n",
      "Epoch : 155    Evaluation Score : 266.0    Noise Scale : 2\n",
      "Epoch : 160    Evaluation Score : 77.0    Noise Scale : 2\n",
      "Epoch : 165    Evaluation Score : 158.0    Noise Scale : 2\n",
      "Epoch : 170    Evaluation Score : 71.0    Noise Scale : 2\n",
      "Epoch : 175    Evaluation Score : 63.0    Noise Scale : 2\n",
      "Epoch : 180    Evaluation Score : 69.0    Noise Scale : 2\n",
      "Epoch : 185    Evaluation Score : 69.0    Noise Scale : 2\n",
      "Epoch : 190    Evaluation Score : 66.0    Noise Scale : 2\n",
      "Epoch : 195    Evaluation Score : 122.0    Noise Scale : 2\n"
     ],
     "output_type": "stream"
    },
    {
     "data": {
      "text/plain": "[<matplotlib.lines.Line2D at 0x1d6d96ca7f0>]"
     },
     "metadata": {},
     "output_type": "execute_result",
     "execution_count": 6
    },
    {
     "data": {
      "text/plain": "<Figure size 432x288 with 1 Axes>",
      "image/png": "[encoded data removed]"
     },
     "metadata": {
      "needs_background": "light"
     },
     "output_type": "display_data"
    }
   ],
   "source": [
    "env.seed(1)\n",
    "np.random.seed(1)\n",
    "rewards_tracker = deque(maxlen=20)\n",
    "all_rewards = []\n",
    "for epoch in range(EPOCHS):\n",
    "    discounted_reward = agent.try_policy(env)\n",
    "    all_rewards.append(discounted_reward)\n",
    "    agent.learn(discounted_reward)\n",
    "    if not epoch % EVAL_FREQ:\n",
    "        rewards_tracker.append(agent.try_policy(env, evaluate=True))\n",
    "        print(f\"Epoch : {epoch}    Evaluation Score : {rewards_tracker[-1]}    Noise Scale : {agent.noise}\")\n",
    "    if np.mean(rewards_tracker) > 195.0 or rewards_tracker[-1]==500:\n",
    "        print(f\"Episode Solved in {epoch} epochs!\")\n",
    "        break\n",
    "env.close()\n",
    "plt.plot(np.arange(start=1,\n",
    "                   stop=epoch+2,\n",
    "                   step=1), all_rewards)"
   ],
   "metadata": {
    "collapsed": false,
    "pycharm": {
     "name": "#%%\n",
     "is_executing": false
    }
   }
  },
  {
   "cell_type": "markdown",
   "source": [
    "# Evaluation"
   ],
   "metadata": {
    "collapsed": false,
    "pycharm": {
     "name": "#%% md\n"
    }
   }
  },
  {
   "cell_type": "code",
   "execution_count": 89,
   "outputs": [],
   "source": [
    "agent.try_policy(env, evaluate=True)\n",
    "env.close()"
   ],
   "metadata": {
    "collapsed": false,
    "pycharm": {
     "name": "#%%\n",
     "is_executing": false
    }
   }
  },
  {
   "cell_type": "code",
   "execution_count": null,
   "outputs": [],
   "source": [
    "env.close()"
   ],
   "metadata": {
    "collapsed": false,
    "pycharm": {
     "name": "#%%\n",
     "is_executing": true
    }
   }
  },
  {
   "cell_type": "code",
   "execution_count": null,
   "outputs": [],
   "source": [
    "\n"
   ],
   "metadata": {
    "collapsed": false,
    "pycharm": {
     "name": "#%%\n"
    }
   }
  }
 ],
 "metadata": {
  "language_info": {
   "codemirror_mode": {
    "name": "ipython",
    "version": 2
   },
   "file_extension": ".py",
   "mimetype": "text/x-python",
   "name": "python",
   "nbconvert_exporter": "python",
   "pygments_lexer": "ipython2",
   "version": "2.7.6"
  },
  "kernelspec": {
   "name": "python3",
   "language": "python",
   "display_name": "Python 3"
  },
  "pycharm": {
   "stem_cell": {
    "cell_type": "raw",
    "source": [],
    "metadata": {
     "collapsed": false
    }
   }
  }
 },
 "nbformat": 4,
 "nbformat_minor": 0
}