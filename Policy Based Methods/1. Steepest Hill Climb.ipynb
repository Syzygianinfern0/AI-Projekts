{
 "cells": [
  {
   "cell_type": "markdown",
   "metadata": {
    "collapsed": true,
    "pycharm": {
     "name": "#%% md\n"
    }
   },
   "source": [
    "# Steepest Hill Climb\n",
    "It refers to moving in the direction of steepest ascent of the reward-policy function. The \n",
    "method is not very good though as it may tend to get stuck in local maximas..."
   ]
  },
  {
   "cell_type": "code",
   "execution_count": 1,
   "metadata": {
    "pycharm": {
     "is_executing": false,
     "name": "#%%\n"
    }
   },
   "outputs": [],
   "source": [
    "import gym\n",
    "import numpy as np\n",
    "import matplotlib.pyplot as plt\n",
    "from IPython.display import clear_output\n",
    "import random\n",
    "from collections import deque\n",
    "%matplotlib inline "
   ]
  },
  {
   "cell_type": "markdown",
   "metadata": {
    "pycharm": {
     "name": "#%% md\n"
    }
   },
   "source": [
    "# Agent class\n",
    "We will work on the cartpole environment as its good for 1st time experimentations. \n",
    "* The policy is going to be a weights matrix which ouputs propabilities for each action. The propabilities \n",
    "will be generated using a $softmax$ function. Its given by \n",
    "![softmax](https://wikimedia.org/api/rest_v1/media/math/render/svg/02a859ba32ab892a2cdbfdafcd5a8f56e49e3d1c) \n",
    "Its normaly used in classification problems and hence is also suitable for this one.\n",
    "* After every training loop, a set of noises will be added to the weights as a standard normal distribution. The \n",
    "```np.random.normal``` is used as we can contol the $mean$ and $standard$ deviation of it\n",
    "* At every iteration of learning, the policy is tested and goes two ways\n",
    "    * **If better  performance** the magnitude of the amount of the noise is reduced\n",
    "    * **If worse performance** the magnitude of the noise  is increased "
   ]
  },
  {
   "cell_type": "code",
   "execution_count": 18,
   "metadata": {
    "pycharm": {
     "is_executing": false,
     "name": "#%%\n"
    }
   },
   "outputs": [],
   "source": [
    "class HillClimber:\n",
    "    \"\"\"Implements all the necessary methods for the algo\"\"\"\n",
    "    def __init__(self, env):\n",
    "        \"\"\"\n",
    "        Init all class variables\n",
    "        :param env: The current environment\n",
    "        \"\"\"\n",
    "        self.n_actions = env.action_space.n\n",
    "        self.n_observations = env.observation_space.shape[0]\n",
    "        self.policy = np.random.rand(self.n_observations, self.n_actions)  # Random Policy to start with\n",
    "        self.best_policy = np.copy(self.policy)\n",
    "        self.best_reward = -1\n",
    "        self.noise = 0.5            # Scale of noise\n",
    "        self.noise_max = 2\n",
    "        self.noise_min = 0.001\n",
    "        self.gamma = 0.98           # Discount factor\n",
    "        \n",
    "    def get_action(self, state, policy=None):\n",
    "        \"\"\"\n",
    "        Gets the action from the policy weights\n",
    "        :param state: Cuurent state present in as a tuple of size (1,4)\n",
    "        :param policy: If passed, uses the passed policy...else uses self.policy\n",
    "        :return: The action to be performed\n",
    "        \"\"\"\n",
    "        if policy is None:\n",
    "            actions = np.dot(state, self.policy)\n",
    "        else:\n",
    "            actions = np.dot(state, policy)\n",
    "        actions = np.exp(actions)\n",
    "        actions = actions / np.sum(actions)     # Softmax Implementation\n",
    "        return np.argmax(actions)\n",
    "            \n",
    "    def _noise_adder(self, better):\n",
    "        \"\"\"\n",
    "        Generates noise for the policy\n",
    "        :param better: Condition to be performed for\n",
    "        :return: None\n",
    "        \"\"\"\n",
    "        if better:      # Noise on current policy\n",
    "            self.policy += np.random.normal(\n",
    "                loc=(self.noise_min + self.noise)/2,\n",
    "                scale=(self.noise - self.noise_min),\n",
    "                size=(self.n_observations, self.n_actions)\n",
    "            )\n",
    "        else:           # Noise on best policy\n",
    "            self.policy = self.best_policy + np.random.normal(\n",
    "                loc=(self.noise_min + self.noise)/2,\n",
    "                scale=(self.noise - self.noise_min),\n",
    "                size=(self.n_observations, self.n_actions)\n",
    "            )\n",
    "            \n",
    "    def learn(self, discounted_reward):\n",
    "        \"\"\"\n",
    "        Judges the performance of the policy and updates it accordngly\n",
    "        :param discounted_reward: The return of the policy\n",
    "        :return: None\n",
    "        \"\"\"\n",
    "        if discounted_reward > self.best_reward:    # Reduce noise\n",
    "            self.best_reward = discounted_reward\n",
    "            self.best_policy = self.policy\n",
    "            if self.noise > self.noise_min:\n",
    "                self._noise_adder(better=True)\n",
    "                self.noise = max(self.noise_min, self.noise/2)\n",
    "        else:       # Increase noise\n",
    "            if self.noise < self.noise_max:\n",
    "                self._noise_adder(better=False)\n",
    "                self.noise = min(self.noise_max, self.noise*1.1)\n",
    "        \n",
    "    def try_policy(self, env, evaluate=False):\n",
    "        \"\"\"\n",
    "        Performs the environment testing loop\n",
    "        :param env: Environment to be tested upon\n",
    "        :param evaluate: Flag to toggle gamma. If true, actual reward. Else, discounted reward\n",
    "        :return: Reward calculated\n",
    "        \"\"\"\n",
    "        discounted_reward = 0\n",
    "        state = env.reset()\n",
    "        state = np.reshape(state, (1,self.n_observations))\n",
    "        done = False\n",
    "        time_steps = 0\n",
    "        while not done:\n",
    "            time_steps += 1\n",
    "            action = self.get_action(state)\n",
    "            next_state, reward, done, _ = env.step(action)\n",
    "            if not evaluate:\n",
    "                discounted_reward += (self.gamma ** time_steps) * reward\n",
    "            else:\n",
    "                discounted_reward += reward\n",
    "                env.render()\n",
    "            state = next_state\n",
    "            state = np.reshape(state, (1,self.n_observations))\n",
    "        return discounted_reward"
   ]
  },
  {
   "cell_type": "markdown",
   "metadata": {
    "pycharm": {
     "name": "#%% md\n"
    }
   },
   "source": [
    "# The environment handler"
   ]
  },
  {
   "cell_type": "code",
   "execution_count": 19,
   "metadata": {
    "pycharm": {
     "is_executing": false,
     "name": "#%%\n"
    }
   },
   "outputs": [],
   "source": [
    "env = gym.make('CartPole-v1')\n",
    "EPOCHS = 200\n",
    "EVAL_FREQ = 5\n",
    "agent = HillClimber(env)"
   ]
  },
  {
   "cell_type": "code",
   "execution_count": 35,
   "metadata": {
    "pycharm": {
     "is_executing": false,
     "name": "#%%\n"
    }
   },
   "outputs": [
    {
     "name": "stdout",
     "output_type": "stream",
     "text": [
      "Epoch : 0    Evaluation Score : 8.0    Noise Scale : 0.25\n",
      "Epoch : 5    Evaluation Score : 8.0    Noise Scale : 0.18301250000000008\n",
      "Epoch : 10    Evaluation Score : 9.0    Noise Scale : 0.29474346137500024\n",
      "Epoch : 15    Evaluation Score : 10.0    Noise Scale : 0.47468729197905185\n",
      "Epoch : 20    Evaluation Score : 9.0    Noise Scale : 0.7644886306051829\n",
      "Epoch : 25    Evaluation Score : 9.0    Noise Scale : 0.5596439020345243\n",
      "Epoch : 30    Evaluation Score : 49.0    Noise Scale : 0.40968731848437356\n",
      "Epoch : 35    Evaluation Score : 80.0    Noise Scale : 0.13632345522567535\n",
      "Epoch : 40    Evaluation Score : 47.0    Noise Scale : 0.09979558539795566\n",
      "Epoch : 45    Evaluation Score : 116.0    Noise Scale : 0.07305535829057345\n",
      "Epoch : 50    Evaluation Score : 76.0    Noise Scale : 0.1176563850805515\n",
      "Epoch : 55    Evaluation Score : 83.0    Noise Scale : 0.08613035669821775\n",
      "Epoch : 60    Evaluation Score : 63.0    Noise Scale : 0.13871380076604672\n",
      "Epoch : 65    Evaluation Score : 58.0    Noise Scale : 0.10154543785078453\n",
      "Epoch : 70    Evaluation Score : 63.0    Noise Scale : 0.07433633777866684\n",
      "Epoch : 75    Evaluation Score : 500.0    Noise Scale : 0.11971941535592077\n",
      "Episode Solved in 75 epochs!\n"
     ]
    },
    {
     "data": {
      "text/plain": [
       "[<matplotlib.lines.Line2D at 0x1bf1899d0f0>]"
      ]
     },
     "execution_count": 35,
     "metadata": {},
     "output_type": "execute_result"
    },
    {
     "data": {
      "image/png": "[encoded data removed]",
      "text/plain": [
       "<Figure size 432x288 with 1 Axes>"
      ]
     },
     "metadata": {
      "needs_background": "light"
     },
     "output_type": "display_data"
    }
   ],
   "source": [
    "rewards_tracker = deque(maxlen=20)\n",
    "all_rewards = []\n",
    "for epoch in range(EPOCHS):\n",
    "    discounted_reward = agent.try_policy(env)   # Test current policy\n",
    "    all_rewards.append(discounted_reward)\n",
    "    agent.learn(discounted_reward)              # Ajust noise scale and update policy\n",
    "    if not epoch % EVAL_FREQ:                   # Evaluation of policy\n",
    "        rewards_tracker.append(agent.try_policy(env, evaluate=True))\n",
    "        print(f\"Epoch : {epoch}    Evaluation Score : {rewards_tracker[-1]}    Noise Scale : {agent.noise}\")\n",
    "    if np.mean(rewards_tracker) > 195.0 or rewards_tracker[-1]==500:    # Stop Training\n",
    "        print(f\"Episode Solved in {epoch} epochs!\")\n",
    "        break\n",
    "env.close()\n",
    "plt.plot(np.arange(start=1,                 # Gnerate reward-v-episodes\n",
    "                   stop=epoch+2,\n",
    "                   step=1), all_rewards)"
   ]
  },
  {
   "cell_type": "markdown",
   "metadata": {
    "pycharm": {
     "name": "#%% md\n"
    }
   },
   "source": [
    "# Evaluation"
   ]
  },
  {
   "cell_type": "code",
   "execution_count": 22,
   "metadata": {
    "pycharm": {
     "is_executing": true,
     "name": "#%%\n"
    }
   },
   "outputs": [],
   "source": [
    "env.close()"
   ]
  },
  {
   "cell_type": "code",
   "execution_count": 36,
   "metadata": {
    "pycharm": {
     "name": "#%%\n"
    }
   },
   "outputs": [],
   "source": [
    "def evaluate(env):\n",
    "    total_reward = 0\n",
    "    state = env.reset()\n",
    "    state = np.reshape(state, (1,agent.n_observations))\n",
    "    done = False\n",
    "    while not done:\n",
    "        action = agent.get_action(state, policy=agent.best_policy)      # Use the best policy for evaluation\n",
    "        next_state, reward, done, _ = env.step(action)\n",
    "        env.render()\n",
    "        total_reward += reward\n",
    "        state = next_state\n",
    "        state = np.reshape(state, (1,agent.n_observations))\n",
    "    return total_reward"
   ]
  },
  {
   "cell_type": "code",
   "execution_count": 44,
   "metadata": {},
   "outputs": [
    {
     "name": "stdout",
     "output_type": "stream",
     "text": [
      "500.0 Score of evaluation\n"
     ]
    }
   ],
   "source": [
    "print(f\"{evaluate(env)} Score of evaluation\")\n",
    "env.close()"
   ]
  }
 ],
 "metadata": {
  "kernelspec": {
   "display_name": "Python 3",
   "language": "python",
   "name": "python3"
  },
  "language_info": {
   "codemirror_mode": {
    "name": "ipython",
    "version": 3
   },
   "file_extension": ".py",
   "mimetype": "text/x-python",
   "name": "python",
   "nbconvert_exporter": "python",
   "pygments_lexer": "ipython3",
   "version": "3.7.3"
  },
  "pycharm": {
   "stem_cell": {
    "cell_type": "raw",
    "source": [],
    "metadata": {
     "collapsed": false
    }
   }
  },
  "toc": {
   "base_numbering": 1,
   "nav_menu": {},
   "number_sections": true,
   "sideBar": true,
   "skip_h1_title": false,
   "title_cell": "Table of Contents",
   "title_sidebar": "Contents",
   "toc_cell": false,
   "toc_position": {},
   "toc_section_display": true,
   "toc_window_display": false
  },
  "varInspector": {
   "cols": {
    "lenName": 16,
    "lenType": 16,
    "lenVar": 40
   },
   "kernels_config": {
    "python": {
     "delete_cmd_postfix": "",
     "delete_cmd_prefix": "del ",
     "library": "var_list.py",
     "varRefreshCmd": "print(var_dic_list())"
    },
    "r": {
     "delete_cmd_postfix": ") ",
     "delete_cmd_prefix": "rm(",
     "library": "var_list.r",
     "varRefreshCmd": "cat(var_dic_list()) "
    }
   },
   "types_to_exclude": [
    "module",
    "function",
    "builtin_function_or_method",
    "instance",
    "_Feature"
   ],
   "window_display": false
  }
 },
 "nbformat": 4,
 "nbformat_minor": 1
}