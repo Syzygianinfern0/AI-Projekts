{
 "cells": [
  {
   "cell_type": "markdown",
   "metadata": {
    "collapsed": true,
    "pycharm": {
     "name": "#%% md\n"
    }
   },
   "source": [
    "* Regular DQN tends to overestimate Q-values of potential actions in a given state\n",
    "* Once one specific action becomes overestimated, it’s more likely to be chosen in the next iteration making it very \n",
    "hard for the agent to explore the environment uniformly and find the right policy.\n",
    "* We will use our primary network to select an action and a target network to generate a Q-value for that action.\n",
    "*  In order to synchronize our networks, we are going to copy weights from the primary network to the target one every \n",
    "'n' training steps.\n"
   ]
  },
  {
   "cell_type": "code",
   "execution_count": 3,
   "outputs": [],
   "source": [
    "import tensorflow as tf\n",
    "import gym\n",
    "import random\n",
    "import numpy as np\n",
    "import cv2"
   ],
   "metadata": {
    "collapsed": false,
    "pycharm": {
     "name": "#%%\n",
     "is_executing": false
    }
   }
  },
  {
   "cell_type": "markdown",
   "source": [
    "We will be using the pong model"
   ],
   "metadata": {
    "collapsed": false,
    "pycharm": {
     "name": "#%% md\n"
    }
   }
  },
  {
   "cell_type": "code",
   "execution_count": 2,
   "outputs": [],
   "source": [
    "ENV_NAME = 'PongDeterministic-v4' "
   ],
   "metadata": {
    "collapsed": false,
    "pycharm": {
     "name": "#%%\n",
     "is_executing": false
    }
   }
  },
  {
   "cell_type": "markdown",
   "source": [
    "# Preprocessing\n",
    "We will have to downscale the image and grayscale it as it makes the policy faster. \n",
    "<br>\n",
    "You can use opencv or skimage or even inbuilt tensorflow methods\n"
   ],
   "metadata": {
    "collapsed": false,
    "pycharm": {
     "name": "#%% md\n"
    }
   }
  },
  {
   "cell_type": "code",
   "execution_count": 4,
   "outputs": [],
   "source": [
    "class ProcessFrame:\n",
    "    \"\"\"Convert to GrayScale and resize\"\"\"\n",
    "    def __init__(self, rows = 84, cols = 84):\n",
    "        \"\"\"\n",
    "        Args:\n",
    "            :param rows: Height to be resized to  \n",
    "            :param cols: Width to be resized to\n",
    "        \"\"\"\n",
    "        self.rows = rows\n",
    "        self.cols = cols\n",
    "    def process_frame(self, frame):\n",
    "        \"\"\"\n",
    "        Processes the frame passed to required using OpenCV\n",
    "        :param frame: An Atari game-play frame of (210,160,3)\n",
    "        :return: A processed frame of (84,84,1)\n",
    "        \"\"\"\n",
    "        gray = cv2.cvtColor(frame, cv2.COLOR_RGB2GRAY)\n",
    "        resized = cv2.resize(gray, [self.rows,self.cols])\n",
    "        preprocessed_frame = resized / 255.0\n",
    "        return preprocessed_frame"
   ],
   "metadata": {
    "collapsed": false,
    "pycharm": {
     "name": "#%%\n",
     "is_executing": false
    }
   }
  },
  {
   "cell_type": "markdown",
   "source": [
    "# Making the dueling network\n",
    "Refer to [Wang Et Al 2016](https://arxiv.org/abs/1511.06581) for more info. \n",
    "\n",
    "\n",
    "The architecture used :\n",
    "    * The first convolutional layer has 32 8x8 filters with stride 4\n",
    "    * The second 64 4x4 filters with stride 2\n",
    "    * The third and final convolutional layer consists 64 3x3 filters with stride 1\n",
    "\n"
   ],
   "metadata": {
    "collapsed": false,
    "pycharm": {
     "name": "#%% md\n"
    }
   }
  }
 ],
 "metadata": {
  "language_info": {
   "codemirror_mode": {
    "name": "ipython",
    "version": 2
   },
   "file_extension": ".py",
   "mimetype": "text/x-python",
   "name": "python",
   "nbconvert_exporter": "python",
   "pygments_lexer": "ipython2",
   "version": "2.7.6"
  },
  "kernelspec": {
   "name": "python3",
   "language": "python",
   "display_name": "Python 3"
  },
  "pycharm": {
   "stem_cell": {
    "cell_type": "raw",
    "source": [],
    "metadata": {
     "collapsed": false
    }
   }
  }
 },
 "nbformat": 4,
 "nbformat_minor": 0
}