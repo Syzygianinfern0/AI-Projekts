{
 "cells": [
  {
   "cell_type": "markdown",
   "metadata": {
    "collapsed": true,
    "pycharm": {
     "name": "#%% md\n"
    }
   },
   "source": [
    "# What is purpose of Double Dueling DQN?\n",
    "* Regular DQN tends to overestimate Q-values of potential actions in a given state\n",
    "* Once one specific action becomes overestimated, it’s more likely to be chosen in the next iteration making it very \n",
    "hard for the agent to explore the environment uniformly and find the right policy.\n",
    "* We will use our primary network to select an action and a target network to generate a Q-value for that action.\n",
    "*  In order to synchronize our networks, we are going to copy weights from the primary network to the target one every \n",
    "'n' training steps.\n"
   ]
  },
  {
   "cell_type": "code",
   "execution_count": 3,
   "outputs": [],
   "source": [
    "import tensorflow as tf\n",
    "import gym\n",
    "import random\n",
    "import numpy as np\n",
    "import cv2"
   ],
   "metadata": {
    "collapsed": false,
    "pycharm": {
     "name": "#%%\n",
     "is_executing": false
    }
   }
  },
  {
   "cell_type": "markdown",
   "source": [
    "We will be using the pong model"
   ],
   "metadata": {
    "collapsed": false,
    "pycharm": {
     "name": "#%% md\n"
    }
   }
  },
  {
   "cell_type": "code",
   "execution_count": 2,
   "outputs": [],
   "source": [
    "ENV_NAME = 'PongDeterministic-v4' "
   ],
   "metadata": {
    "collapsed": false,
    "pycharm": {
     "name": "#%%\n",
     "is_executing": false
    }
   }
  },
  {
   "cell_type": "markdown",
   "source": [
    "# Preprocessing\n",
    "We will have to downscale the image and grayscale it as it makes the policy faster. \n",
    "<br>\n",
    "You can use opencv or skimage or even inbuilt tensorflow methods\n"
   ],
   "metadata": {
    "collapsed": false,
    "pycharm": {
     "name": "#%% md\n"
    }
   }
  },
  {
   "cell_type": "code",
   "execution_count": 4,
   "outputs": [],
   "source": [
    "class ProcessFrame:\n",
    "    \"\"\"Convert to GrayScale and resize\"\"\"\n",
    "    def __init__(self, rows = 84, cols = 84):\n",
    "        \"\"\"\n",
    "        Args:\n",
    "            :param rows: Height to be resized to  \n",
    "            :param cols: Width to be resized to\n",
    "        \"\"\"\n",
    "        self.rows = rows\n",
    "        self.cols = cols\n",
    "    def process_frame(self, frame):\n",
    "        \"\"\"\n",
    "        Processes the frame passed to required using OpenCV\n",
    "        :param frame: An Atari game-play frame of (210,160,3)\n",
    "        :return: A processed frame of (84,84,1)\n",
    "        \"\"\"\n",
    "        gray = cv2.cvtColor(frame, cv2.COLOR_RGB2GRAY)\n",
    "        resized = cv2.resize(gray, [self.rows,self.cols])\n",
    "        preprocessed_frame = resized / 255.0\n",
    "        return preprocessed_frame"
   ],
   "metadata": {
    "collapsed": false,
    "pycharm": {
     "name": "#%%\n",
     "is_executing": false
    }
   }
  },
  {
   "cell_type": "markdown",
   "source": [
    "# Making the dueling network\n",
    "Refer to [Wang Et Al 2016](https://arxiv.org/abs/1511.06581) for more info. \n",
    "\n",
    "\n",
    "The architecture used :\n",
    "* The first convolutional layer has   32    8x8 filters with stride 4\n",
    "* The second convolutional layer has  64    4x4 filters with stride 2\n",
    "* The third convolutional layer has   64    3x3 filters with stride 1\n",
    "* The fourth convolutional layer has  1024  7x7 filters with stride 1\n",
    "\n",
    "Instead of directly predicting a single Q-value for each action, the dueling architecture \n",
    "splits the final convolutional layer into two streams that represent the value and advantage \n",
    "functions that predict a state value V(s) that depends only on the state, and action advantages \n",
    "A(s,a) that depend on the state and the respective action.\n",
    "\n",
    "An excerpt from the original paper :\n",
    "\n",
    "> Intuitively, the dueling architecture can learn which states are (or are not) valuable, without \n",
    "having to learn the effect of each action for each state. This is particularly useful in states \n",
    "where its actions do not affect the environment in any relevant way. In the experiments, we \n",
    "demonstrate that the dueling architecture can more quickly identify the correct action during \n",
    "policy evaluation as redundant or similar actions are added to the learning problem.\n",
    "\n",
    "The state value V(s) talks about is the state is favourable or not while the action advantage A(s,a)\n",
    "says which is the favourable action if in that state.  \n",
    "\n",
    "Now to combine the state and advantage values : \n",
    "\n",
    "> Next, we have to combine the value and advantage stream into $Q$-values $Q(s,a)$. This is done \n",
    "the following way :\n",
    "\\begin{equation}\n",
    "Q(s,a) = V(s) + \\left(A(s,a) - \\frac 1{| \\mathcal A |}\\sum_{a'}A(s, a')\\right)\n",
    "\\end{equation}\n",
    "\n",
    "\n",
    "To give a sense of motion to the network, we stack 4 frames and pass to the network to train upon.\n",
    "\n",
    "Let's now implement this in a class. \n"
   ],
   "metadata": {
    "collapsed": false,
    "pycharm": {
     "name": "#%% md\n"
    }
   }
  },
  {
   "cell_type": "code",
   "execution_count": 9,
   "outputs": [
    {
     "name": "stdout",
     "text": [
      "_________________________________________________________________\nLayer (type)                 Output Shape              Param #   \n=================================================================\nconv2d_8 (Conv2D)            (None, 20, 20, 32)        8224      \n_________________________________________________________________\nconv2d_9 (Conv2D)            (None, 9, 9, 64)          32832     \n_________________________________________________________________\nconv2d_10 (Conv2D)           (None, 7, 7, 64)          36928     \n_________________________________________________________________\nconv2d_11 (Conv2D)           (None, 1, 1, 1024)        3212288   \n_________________________________________________________________\nflatten (Flatten)            (None, 1024)              0         \n_________________________________________________________________\ndense (Dense)                (None, 1)                 1025      \n=================================================================\nTotal params: 3,291,297\nTrainable params: 3,291,297\nNon-trainable params: 0\n_________________________________________________________________\n",
      "_________________________________________________________________\nLayer (type)                 Output Shape              Param #   \n=================================================================\nconv2d_12 (Conv2D)           (None, 20, 20, 32)        8224      \n_________________________________________________________________\nconv2d_13 (Conv2D)           (None, 9, 9, 64)          32832     \n_________________________________________________________________\nconv2d_14 (Conv2D)           (None, 7, 7, 64)          36928     \n_________________________________________________________________\nconv2d_15 (Conv2D)           (None, 1, 1, 1024)        3212288   \n_________________________________________________________________\nflatten_1 (Flatten)          (None, 1024)              0         \n_________________________________________________________________\ndense_1 (Dense)              (None, 4)                 4100      \n=================================================================\nTotal params: 3,294,372\nTrainable params: 3,294,372\nNon-trainable params: 0\n_________________________________________________________________\n"
     ],
     "output_type": "stream"
    }
   ],
   "source": [
    "class DQN:\n",
    "    \"\"\"\n",
    "    Implementation of the brain\n",
    "    \"\"\"\n",
    "    def __init__(self, n_actions, stream,learning_rate = 0.00025, state_length = 4):\n",
    "        \"\"\"\n",
    "        Init all required variables\n",
    "        :param n_actions: Number of actions available in the environment \n",
    "        :param stream: Type of stream - 'v' or 'a' for Advantage and Value respectively\n",
    "        :param learning_rate: The specific lr argument for the Adam optimizer\n",
    "        :param state_length: The number of frames which create a state\n",
    "        \"\"\"\n",
    "        self.n_actions = n_actions\n",
    "        self.learning_rate = learning_rate\n",
    "        self.agent_history_length = state_length\n",
    "        self.stream = stream\n",
    "        self.input_shape = [84, 84, self.agent_history_length]\n",
    "        self.make_model()\n",
    "        \n",
    "    def make_model(self):\n",
    "        \"\"\"\n",
    "        Creates the neural network responsible\n",
    "        :return: None\n",
    "        \"\"\"\n",
    "        self.model = tf.keras.models.Sequential([\n",
    "            tf.keras.layers.Conv2D(filters=32, kernel_size=[8,8], strides=4,\n",
    "                                   input_shape=self.input_shape, \n",
    "                                   activation='relu',\n",
    "                                   kernel_initializer=tf.keras.initializers.VarianceScaling(scale=2)),\n",
    "            tf.keras.layers.Conv2D(filters=64, kernel_size=[4,4], strides=2,\n",
    "                                   input_shape=self.input_shape, \n",
    "                                   activation='relu',\n",
    "                                   kernel_initializer=tf.keras.initializers.VarianceScaling(scale=2)),\n",
    "            tf.keras.layers.Conv2D(filters=64, kernel_size=[3,3], strides=1,\n",
    "                                   input_shape=self.input_shape, \n",
    "                                   activation='relu',\n",
    "                                   kernel_initializer=tf.keras.initializers.VarianceScaling(scale=2)),\n",
    "            tf.keras.layers.Conv2D(filters=1024, kernel_size=[7,7], strides=1,\n",
    "                                   input_shape=self.input_shape, \n",
    "                                   activation='relu',\n",
    "                                   kernel_initializer=tf.keras.initializers.VarianceScaling(scale=2)),\n",
    "            tf.keras.layers.Flatten()\n",
    "        ])\n",
    "        if self.stream == 'v':\n",
    "            self.model.add(\n",
    "                tf.keras.layers.Dense(units=1,\n",
    "                                      kernel_initializer=tf.keras.initializers.VarianceScaling(scale=2)))\n",
    "        elif self.stream == 'a':\n",
    "            self.model.add(\n",
    "                tf.keras.layers.Dense(units=self.n_actions,\n",
    "                                      kernel_initializer=tf.keras.initializers.VarianceScaling(scale=2)))\n",
    "            \n",
    "        self.model.compile(optimizer=tf.keras.optimizers.Adam(lr=self.learning_rate),\n",
    "                           loss=tf.keras.losses.mean_squared_error,\n",
    "                           metrics=['accuracy'])\n",
    "        self.model.summary()\n",
    "Value = DQN(4, 'v')\n",
    "Advantage = DQN(4, 'a')"
   ],
   "metadata": {
    "collapsed": false,
    "pycharm": {
     "name": "#%%\n",
     "is_executing": false
    }
   }
  },
  {
   "cell_type": "markdown",
   "source": [
    "# Making the \n"
   ],
   "metadata": {
    "collapsed": false,
    "pycharm": {
     "name": "#%% md\n"
    }
   }
  }
 ],
 "metadata": {
  "language_info": {
   "codemirror_mode": {
    "name": "ipython",
    "version": 2
   },
   "file_extension": ".py",
   "mimetype": "text/x-python",
   "name": "python",
   "nbconvert_exporter": "python",
   "pygments_lexer": "ipython2",
   "version": "2.7.6"
  },
  "kernelspec": {
   "name": "python3",
   "language": "python",
   "display_name": "Python 3"
  },
  "pycharm": {
   "stem_cell": {
    "cell_type": "raw",
    "source": [],
    "metadata": {
     "collapsed": false
    }
   }
  }
 },
 "nbformat": 4,
 "nbformat_minor": 0
}