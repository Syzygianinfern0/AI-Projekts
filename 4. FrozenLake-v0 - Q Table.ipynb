{
 "cells": [
  {
   "cell_type": "markdown",
   "metadata": {
    "collapsed": true,
    "pycharm": {
     "name": "#%% md\n"
    }
   },
   "source": [
    "# We will try to make a Q Table for solving. \n",
    "We are going to disable slippery for reducing complications."
   ]
  },
  {
   "cell_type": "code",
   "execution_count": 24,
   "metadata": {
    "pycharm": {
     "is_executing": false,
     "name": "#%%\n"
    }
   },
   "outputs": [],
   "source": [
    "import gym\n",
    "import numpy as np\n",
    "import random\n",
    "from time import sleep\n",
    "from IPython.display import clear_output\n",
    "from gym.envs.registration import register        # <<<--- To manipulate the registry of the FrozenLake Source to remove slipping "
   ]
  },
  {
   "cell_type": "markdown",
   "metadata": {
    "pycharm": {
     "name": "#%% md\n"
    }
   },
   "source": [
    "# Lets make the basic agent from the last exercise"
   ]
  },
  {
   "cell_type": "code",
   "execution_count": 25,
   "metadata": {
    "pycharm": {
     "is_executing": false,
     "name": "#%%\n"
    }
   },
   "outputs": [],
   "source": [
    "class Agent():\n",
    "    def __init__(self, env):\n",
    "        self.is_discrete = type(env.action_space) == gym.spaces.discrete.Discrete\n",
    "        #     ^^^^ <<< Takes 1 if discrete else 0\n",
    "        \n",
    "        if self.is_discrete:\n",
    "            self.action_size = env.action_space.n\n",
    "        else:\n",
    "            self.action_low = env.action_space.low\n",
    "            self.action_high = env.action_space.high\n",
    "            self.action_size = env.action_space.shape\n",
    "        \n",
    "    def get_action(self):\n",
    "        if self.is_discrete:\n",
    "            a = random.choice(range(self.action_size))\n",
    "        else:             # vvvv <<< takes low high and shape of output as args\n",
    "            a = np.random.uniform(self.action_low,\n",
    "                                  self.action_high,\n",
    "                                  self.action_size)\n",
    "        return a\n",
    "\n",
    "try:    \n",
    "    register(\n",
    "        id='FrozenLake-NoSlip-v0',\n",
    "        entry_point='gym.envs.toy_text:FrozenLakeEnv',\n",
    "        kwargs={'map_name' : '4x4', 'is_slippery' : False},     # <<<--- Passing to register as a **kwarg... \n",
    "        max_episode_steps=100,                                  # Refer https://github.com/openai/gym/blob/master/gym/envs/__init__.py\n",
    "        reward_threshold=0.78, # optimum = .8196\n",
    "    )\n",
    "except:\n",
    "    pass\n",
    "\n",
    "env = gym.make('FrozenLake-NoSlip-v0')\n",
    "agent = Agent(env)\n",
    "state = env.reset()\n",
    "\n",
    "for _ in range(250):\n",
    "    action = agent.get_action()\n",
    "    state, reward, done, info = env.step(action)\n",
    "    if done:\n",
    "        break\n",
    "    env.render()\n",
    "    sleep(0.5)\n",
    "    clear_output(wait=True)\n",
    "env.close()"
   ]
  },
  {
   "cell_type": "markdown",
   "metadata": {},
   "source": [
    "# We will now make the Q Agent"
   ]
  },
  {
   "cell_type": "code",
   "execution_count": null,
   "metadata": {},
   "outputs": [],
   "source": [
    "class QAgent(Agent):\n",
    "    def __init__(self, env):\n",
    "        super(QAgent, self).__init__(env)\n",
    "        self.state_size = env.observation_space.n\n",
    "        self.make_table()\n",
    "    def make_table(self):\n",
    "        QTable = np.random.random([self.state_size, self.action_size])\n",
    "    def get_action(self, state):\n",
    "        q_state = self.QTable[state]\n",
    "        action = np.argmax(q_state)\n",
    "        return action\n",
    "    def train(self, exp):\n",
    "        state, action, next_state, done, reward = exp\n",
    "            "
   ]
  }
 ],
 "metadata": {
  "kernelspec": {
   "display_name": "Python 3",
   "language": "python",
   "name": "python3"
  },
  "language_info": {
   "codemirror_mode": {
    "name": "ipython",
    "version": 3
   },
   "file_extension": ".py",
   "mimetype": "text/x-python",
   "name": "python",
   "nbconvert_exporter": "python",
   "pygments_lexer": "ipython3",
   "version": "3.7.3"
  },
  "pycharm": {
   "stem_cell": {
    "cell_type": "raw",
    "source": [],
    "metadata": {
     "collapsed": false
    }
   }
  }
 },
 "nbformat": 4,
 "nbformat_minor": 1
}